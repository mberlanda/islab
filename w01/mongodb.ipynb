{
 "cells": [
  {
   "cell_type": "code",
   "execution_count": 1,
   "metadata": {
    "collapsed": true,
    "deletable": true,
    "editable": true
   },
   "outputs": [],
   "source": [
    "import pymongo\n",
    "import pprint\n",
    "from datetime import datetime\n",
    "\n",
    "\n",
    "db_name, host = 'mdb_tutorial', 'localhost'\n",
    "db = pymongo.MongoClient(host=host)[db_name]\n",
    "p = pprint.PrettyPrinter(indent=4)"
   ]
  },
  {
   "cell_type": "markdown",
   "metadata": {
    "deletable": true,
    "editable": true
   },
   "source": [
    "## Data structure\n",
    "\n",
    "#### Flat document structure"
   ]
  },
  {
   "cell_type": "code",
   "execution_count": 2,
   "metadata": {
    "collapsed": true,
    "deletable": true,
    "editable": true
   },
   "outputs": [],
   "source": [
    "doc1 = {'name': 'Napoléon', 'last_name': 'Bonaparte'}"
   ]
  },
  {
   "cell_type": "markdown",
   "metadata": {
    "deletable": true,
    "editable": true
   },
   "source": [
    "#### Array contents"
   ]
  },
  {
   "cell_type": "code",
   "execution_count": 3,
   "metadata": {
    "collapsed": true,
    "deletable": true,
    "editable": true
   },
   "outputs": [],
   "source": [
    "doc2 = {\n",
    "    'name': 'Napoléon', \n",
    "    'last_name': 'Bonaparte',\n",
    "    'categories': ['historical figure', 'general']\n",
    "}"
   ]
  },
  {
   "cell_type": "markdown",
   "metadata": {
    "deletable": true,
    "editable": true
   },
   "source": [
    "#### Object embedded"
   ]
  },
  {
   "cell_type": "code",
   "execution_count": 4,
   "metadata": {
    "collapsed": false,
    "deletable": true,
    "editable": true
   },
   "outputs": [],
   "source": [
    "doc3 = {\n",
    "    'name': 'Napoléon', \n",
    "    'last_name': 'Bonaparte',\n",
    "    'dates': {'birth': datetime(1769, 8, 15), \n",
    "              'death': datetime(1821, 5, 5)},\n",
    "    'categories': ['historical figure', 'general']\n",
    "}"
   ]
  },
  {
   "cell_type": "markdown",
   "metadata": {
    "deletable": true,
    "editable": true
   },
   "source": [
    "#### Mixed"
   ]
  },
  {
   "cell_type": "code",
   "execution_count": 5,
   "metadata": {
    "collapsed": false,
    "deletable": true,
    "editable": true
   },
   "outputs": [],
   "source": [
    "doc4 = {\n",
    "    'name': 'Napoléon', \n",
    "    'last_name': 'Bonaparte',\n",
    "    'dates': {'birth': datetime(1769, 8, 15), 'death': datetime(1821, 5, 5)},\n",
    "    'categories': ['historical figure', 'general'],\n",
    "    'wifes': [\n",
    "        {\n",
    "            'name': 'Joséphine de Beauharnais', \n",
    "            'dates': {'birth': datetime(1793, 6, 23), 'death': datetime(1814, 5, 29)}\n",
    "        },\n",
    "        {\n",
    "            'name': 'Marie Louise, Duchess of Parma', \n",
    "            'dates': {'birth': datetime(1791, 12, 12), 'death': datetime(1847, 12, 17)}\n",
    "        }\n",
    "    ]\n",
    "}"
   ]
  },
  {
   "cell_type": "markdown",
   "metadata": {
    "deletable": true,
    "editable": true
   },
   "source": [
    "* * * *"
   ]
  },
  {
   "cell_type": "markdown",
   "metadata": {
    "deletable": true,
    "editable": true
   },
   "source": [
    "## Insert one and multiple docs in collections"
   ]
  },
  {
   "cell_type": "code",
   "execution_count": 6,
   "metadata": {
    "collapsed": false,
    "deletable": true,
    "editable": true
   },
   "outputs": [
    {
     "name": "stdout",
     "output_type": "stream",
     "text": [
      "1\n",
      "4\n"
     ]
    }
   ],
   "source": [
    "db['people'].drop()\n",
    "db['people'].insert_one(doc1)\n",
    "print db['people'].count()\n",
    "db['people'].insert_many([doc2, doc3, doc4])\n",
    "print db['people'].count()"
   ]
  },
  {
   "cell_type": "markdown",
   "metadata": {
    "deletable": true,
    "editable": true
   },
   "source": [
    "## MongoDb cursors for query"
   ]
  },
  {
   "cell_type": "code",
   "execution_count": 56,
   "metadata": {
    "collapsed": false,
    "deletable": true,
    "editable": true
   },
   "outputs": [
    {
     "name": "stdout",
     "output_type": "stream",
     "text": [
      "{   u'_id': ObjectId('58bec5cdc4065506c1abb6ec'),\n",
      "    u'categories': [u'historical figure', u'general'],\n",
      "    u'dates': {   u'birth': datetime.datetime(1769, 8, 15, 0, 0),\n",
      "                  u'death': datetime.datetime(1821, 5, 5, 0, 0)},\n",
      "    u'last_name': u'Bonaparte',\n",
      "    u'name': u'Napol\\xe9on'}\n",
      "\n",
      "{   u'_id': ObjectId('58bec5cdc4065506c1abb6ed'),\n",
      "    u'categories': [u'historical figure', u'general'],\n",
      "    u'dates': {   u'birth': datetime.datetime(1769, 8, 15, 0, 0),\n",
      "                  u'death': datetime.datetime(1821, 5, 5, 0, 0)},\n",
      "    u'last_name': u'Bonaparte',\n",
      "    u'name': u'Napol\\xe9on',\n",
      "    u'wifes': [   {   u'dates': {   u'birth': datetime.datetime(1793, 6, 23, 0, 0),\n",
      "                                    u'death': datetime.datetime(1814, 5, 29, 0, 0)},\n",
      "                      u'name': u'Jos\\xe9phine de Beauharnais'},\n",
      "                  {   u'dates': {   u'birth': datetime.datetime(1791, 12, 12, 0, 0),\n",
      "                                    u'death': datetime.datetime(1847, 12, 17, 0, 0)},\n",
      "                      u'name': u'Marie Louise, Duchess of Parma'}]}\n",
      "\n"
     ]
    }
   ],
   "source": [
    "cursor = db['people'].find().skip(2).limit(2)\n",
    "for record in cursor:\n",
    "    p.pprint(record)\n",
    "    print \"\"\n",
    "cursor.close()"
   ]
  },
  {
   "cell_type": "markdown",
   "metadata": {
    "deletable": true,
    "editable": true
   },
   "source": [
    "## Simple queries\n",
    "A query is nothing more that a document providing data required for matching"
   ]
  },
  {
   "cell_type": "code",
   "execution_count": 43,
   "metadata": {
    "collapsed": false,
    "deletable": true,
    "editable": true
   },
   "outputs": [],
   "source": [
    "q1 = {'last_name': 'Bonaparte'}"
   ]
  },
  {
   "cell_type": "markdown",
   "metadata": {
    "deletable": true,
    "editable": true
   },
   "source": [
    "\n",
    "\n",
    "Find one record or none"
   ]
  },
  {
   "cell_type": "code",
   "execution_count": 44,
   "metadata": {
    "collapsed": false,
    "deletable": true,
    "editable": true
   },
   "outputs": [
    {
     "name": "stdout",
     "output_type": "stream",
     "text": [
      "{   u'_id': ObjectId('58beb5afc4065506c1abb6e1'),\n",
      "    u'last_name': u'Bonaparte',\n",
      "    u'name': u'Napol\\xe9on'}\n"
     ]
    }
   ],
   "source": [
    "p.pprint(db['people'].find_one(q1)) #find one record or none"
   ]
  },
  {
   "cell_type": "markdown",
   "metadata": {
    "deletable": true,
    "editable": true
   },
   "source": [
    "\n",
    "\n",
    "Multiple finding returns a cursor"
   ]
  },
  {
   "cell_type": "code",
   "execution_count": 45,
   "metadata": {
    "collapsed": false,
    "deletable": true,
    "editable": true
   },
   "outputs": [
    {
     "name": "stdout",
     "output_type": "stream",
     "text": [
      "<pymongo.cursor.Cursor object at 0x1045f6390>\n",
      "[   {   u'_id': ObjectId('58beb5afc4065506c1abb6e1'),\n",
      "        u'last_name': u'Bonaparte',\n",
      "        u'name': u'Napol\\xe9on'},\n",
      "    {   u'_id': ObjectId('58beb5afc4065506c1abb6e2'),\n",
      "        u'categories': [u'historical figure', u'general'],\n",
      "        u'last_name': u'Bonaparte',\n",
      "        u'name': u'Napol\\xe9on'},\n",
      "    {   u'_id': ObjectId('58beb5afc4065506c1abb6e3'),\n",
      "        u'categories': [u'historical figure', u'general'],\n",
      "        u'dates': {   u'birth': u'15 August 1769', u'death': u'15 August 1769'},\n",
      "        u'last_name': u'Bonaparte',\n",
      "        u'name': u'Napol\\xe9on'},\n",
      "    {   u'_id': ObjectId('58beb5afc4065506c1abb6e4'),\n",
      "        u'categories': [u'historical figure', u'general'],\n",
      "        u'dates': {   u'birth': u'15 August 1769', u'death': u'15 August 1769'},\n",
      "        u'last_name': u'Bonaparte',\n",
      "        u'name': u'Napol\\xe9on',\n",
      "        u'wifes': [   {   u'dates': {   u'birth': u'23 June 1763',\n",
      "                                        u'death': u'29 May 1814'},\n",
      "                          u'name': u'Jos\\xe9phine de Beauharnais'},\n",
      "                      {   u'dates': {   u'birth': u'12 December 1791',\n",
      "                                        u'death': u'17 December 1847'},\n",
      "                          u'name': u'Marie Louise, Duchess of Parma'}]}]\n"
     ]
    }
   ],
   "source": [
    "p.pprint(db['people'].find(q1)) #multiple finding returns a cursor\n",
    "p.pprint([x for x in db['people'].find(q1)]) #iterate on cursors"
   ]
  },
  {
   "cell_type": "markdown",
   "metadata": {
    "deletable": true,
    "editable": true
   },
   "source": [
    "## Selection and projection operators"
   ]
  },
  {
   "cell_type": "markdown",
   "metadata": {
    "deletable": true,
    "editable": true
   },
   "source": [
    "Find last name of people born after 1750"
   ]
  },
  {
   "cell_type": "code",
   "execution_count": 58,
   "metadata": {
    "collapsed": false,
    "deletable": true,
    "editable": true
   },
   "outputs": [
    {
     "name": "stdout",
     "output_type": "stream",
     "text": [
      "{u'last_name': u'Bonaparte'}\n",
      "{u'last_name': u'Bonaparte'}\n"
     ]
    }
   ],
   "source": [
    "selection = {'dates.birth': {'$gte': datetime(1750, 1, 1)}}\n",
    "projection = {'last_name': 1, '_id': 0}\n",
    "for data in db['people'].find(selection, projection):\n",
    "    print data"
   ]
  },
  {
   "cell_type": "markdown",
   "metadata": {
    "deletable": true,
    "editable": true
   },
   "source": [
    "See [MongoDb documentation](https://docs.mongodb.com/manual/reference/operator/query/) for a list of query operators"
   ]
  },
  {
   "cell_type": "code",
   "execution_count": null,
   "metadata": {
    "collapsed": true,
    "deletable": true,
    "editable": true
   },
   "outputs": [],
   "source": []
  }
 ],
 "metadata": {
  "kernelspec": {
   "display_name": "Python 2",
   "language": "python",
   "name": "python2"
  },
  "language_info": {
   "codemirror_mode": {
    "name": "ipython",
    "version": 2
   },
   "file_extension": ".py",
   "mimetype": "text/x-python",
   "name": "python",
   "nbconvert_exporter": "python",
   "pygments_lexer": "ipython2",
   "version": "2.7.13"
  }
 },
 "nbformat": 4,
 "nbformat_minor": 2
}
