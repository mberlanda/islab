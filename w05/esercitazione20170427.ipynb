{
 "cells": [
  {
   "cell_type": "code",
   "execution_count": 2,
   "metadata": {
    "collapsed": false
   },
   "outputs": [
    {
     "name": "stdout",
     "output_type": "stream",
     "text": [
      "Importing Jupyter notebook from mecdb.ipynb\n"
     ]
    }
   ],
   "source": [
    "from IPython.core.display import display, HTML\n",
    "import nbimporter\n",
    "from mecdb import MEC\n",
    "import sklearn.cluster as cls\n",
    "import numpy as np\n",
    "\n",
    "def show(doc, w=120):\n",
    "    style = 'width: ' + str(w) + 'px;'\n",
    "    try:\n",
    "        url = doc['image']\n",
    "    except KeyError:\n",
    "        url = 'https://cdn0.iconfinder.com/data/icons/large-glossy-icons/512/No.png'\n",
    "    display(HTML('<img src=\"' + url + '\" style=\"' + style + '\">'))\n",
    "\n",
    "    \n",
    "def show_grid(docs, w=120, row=6):\n",
    "    style = 'width: ' + str(w) + 'px; display: inline;'\n",
    "    html_row = []\n",
    "    for doc in docs:\n",
    "        try:\n",
    "            url = doc['image']\n",
    "        except KeyError:\n",
    "            url = 'https://cdn0.iconfinder.com/data/icons/large-glossy-icons/512/No.png'\n",
    "        html_row.append('<img src=\"' + url + '\" style=\"' + style + '\">')\n",
    "        if len(html_row) == row:\n",
    "            display(HTML(\"\".join(html_row)))\n",
    "            html_row = []\n",
    "    display(HTML(\"\".join(html_row)))\n",
    "    \n",
    "\n",
    "dataset = 'calzedoniajson_items_0'\n",
    "mec = MEC(dataset)"
   ]
  },
  {
   "cell_type": "code",
   "execution_count": 3,
   "metadata": {
    "collapsed": true
   },
   "outputs": [],
   "source": [
    "M = mec.dataset_matrix(size=len(mec.dictionary))\n",
    "A = M.T"
   ]
  },
  {
   "cell_type": "code",
   "execution_count": 6,
   "metadata": {
    "collapsed": false
   },
   "outputs": [],
   "source": [
    "B = np.dot(A, M)"
   ]
  },
  {
   "cell_type": "code",
   "execution_count": 7,
   "metadata": {
    "collapsed": true
   },
   "outputs": [],
   "source": [
    "sorted_tags = sorted(mec.dictionary.items(), key=lambda x: x[1])\n",
    "tags_list = map(lambda x: x[0], sorted_tags)"
   ]
  },
  {
   "cell_type": "code",
   "execution_count": 8,
   "metadata": {
    "collapsed": false
   },
   "outputs": [
    {
     "name": "stdout",
     "output_type": "stream",
     "text": [
      "True\n"
     ]
    }
   ],
   "source": [
    "Ut, sigmas, Vt = np.linalg.svd(A, full_matrices=False)\n",
    "\n",
    "St = np.diag(sigmas)\n",
    "P1 = np.dot(Ut, St)\n",
    "P2 = np.dot(P1, Vt)\n",
    "\n",
    "print np.allclose(P2, A)"
   ]
  },
  {
   "cell_type": "code",
   "execution_count": 20,
   "metadata": {
    "collapsed": false
   },
   "outputs": [
    {
     "data": {
      "image/png": "[encoded data removed]",
      "text/plain": [
       "<matplotlib.figure.Figure at 0x7f0009bc83d0>"
      ]
     },
     "metadata": {},
     "output_type": "display_data"
    }
   ],
   "source": [
    "from matplotlib import pyplot as plt\n",
    "\n",
    "fig, axes = plt.subplots(nrows=2, ncols=1, figsize=(14, 8))\n",
    "axes[0].bar(range(0, len(sigmas)), sigmas)\n",
    "axes[1].bar(range(0, 30), sigmas[:30])\n",
    "plt.show()"
   ]
  },
  {
   "cell_type": "code",
   "execution_count": 22,
   "metadata": {
    "collapsed": false
   },
   "outputs": [],
   "source": [
    "# In qualche modo definiamo il numero di topic\n",
    "k = 10"
   ]
  },
  {
   "cell_type": "code",
   "execution_count": 28,
   "metadata": {
    "collapsed": false
   },
   "outputs": [
    {
     "name": "stdout",
     "output_type": "stream",
     "text": [
      "(694, 10)\n",
      "(10, 450)\n"
     ]
    }
   ],
   "source": [
    "Skt = np.diag(sigmas[:k])\n",
    "Ukt = Ut[:,:k]\n",
    "Vkt = Vt.T[:,:k].T\n",
    "\n",
    "Pk1 = np.dot(Ukt, Skt)\n",
    "Pk2 = np.dot(Pk1, Vkt)\n",
    "\n",
    "Terms = np.dot(Ukt, Skt)\n",
    "Docs = np.dot(Skt, Vkt)\n",
    "\n",
    "print Terms.shape\n",
    "print Docs.shape"
   ]
  },
  {
   "cell_type": "code",
   "execution_count": 46,
   "metadata": {
    "collapsed": false
   },
   "outputs": [
    {
     "name": "stdout",
     "output_type": "stream",
     "text": [
      "0 :  woman, sexy, fashion, pretty, girl, young, glamour, model, beautiful, summer\n",
      "1 :  vacation, beach, sea, water, sand, ocean, travel, tropical, summer, leisure\n",
      "2 :  text, business, design, desktop, symbol, no person, education, sign, illustration, success\n",
      "3 :  lingerie, erotic, pantie, seduction, brassiere, people, thin, underwear, wear, one\n",
      "4 :  exercise, active, strength, fitness, sport, health, brawny, gymnastics, athlete, balance\n",
      "5 :  color, thread, no person, textile, bright, decoration, gift, fabric, accessory, celebration\n",
      "6 :  street, cute, festival, man, music, city, performance, pantie, people, attractive\n",
      "7 :  illustration, character, funny, art, far-out, sketch, simple, scribble, celebration, cockamamie\n",
      "8 :  footwear, person, shoe, foot, attractive, funny, character, sneakers, contemporary, beautiful\n",
      "9 :  indoors, family, festival, music, performance, furniture, concert, light, sofa, room\n"
     ]
    }
   ],
   "source": [
    "tgroups = {}\n",
    "n_elem = 10\n",
    "\n",
    "for i, line in enumerate(Terms.T):\n",
    "    sorted_values = sorted(enumerate(line), key=lambda x: -np.abs(x[1]))[:n_elem]\n",
    "    tgroups[i] = map(lambda x: tags_list[x[0]], sorted_values)\n",
    "\n",
    "for k, v in tgroups.items():\n",
    "    print k, \": \", \", \".join(v)"
   ]
  },
  {
   "cell_type": "code",
   "execution_count": 53,
   "metadata": {
    "collapsed": false
   },
   "outputs": [
    {
     "name": "stdout",
     "output_type": "stream",
     "text": [
      "Topic  0 :  woman, sexy, fashion, pretty, girl, young, glamour, model, beautiful, summer\n"
     ]
    },
    {
     "data": {
      "text/html": [
       "<img src=\"https://scontent.cdninstagram.com/t51.2885-15/e15/13267435_1116219191749482_1656026363_n.jpg\" style=\"width: 120px; display: inline;\"><img src=\"https://scontent.cdninstagram.com/t51.2885-15/s640x640/sh0.08/e35/13098903_1009162605806212_5988771_n.jpg\" style=\"width: 120px; display: inline;\"><img src=\"https://scontent.cdninstagram.com/t51.2885-15/s640x640/sh0.08/e35/13745168_576597282520647_1839483206_n.jpg\" style=\"width: 120px; display: inline;\"><img src=\"https://scontent.cdninstagram.com/t51.2885-15/s640x640/sh0.08/e35/13402518_1028481673908165_1030626595_n.jpg\" style=\"width: 120px; display: inline;\"><img src=\"https://scontent.cdninstagram.com/t51.2885-15/s480x480/e35/13557134_1088138371231776_2046604614_n.jpg\" style=\"width: 120px; display: inline;\"><img src=\"https://scontent.cdninstagram.com/t51.2885-15/s640x640/sh0.08/e35/13098907_617673045051746_2108647777_n.jpg\" style=\"width: 120px; display: inline;\">"
      ],
      "text/plain": [
       "<IPython.core.display.HTML object>"
      ]
     },
     "metadata": {},
     "output_type": "display_data"
    },
    {
     "data": {
      "text/html": [
       "<img src=\"https://scontent.cdninstagram.com/t51.2885-15/s640x640/sh0.08/e35/13408988_284025268617570_988844988_n.jpg\" style=\"width: 120px; display: inline;\"><img src=\"https://scontent.cdninstagram.com/t51.2885-15/s640x640/sh0.08/e35/13388731_1630533133939991_1607309340_n.jpg\" style=\"width: 120px; display: inline;\"><img src=\"https://scontent.cdninstagram.com/t51.2885-15/s640x640/sh0.08/e35/13402223_601168270051908_449170365_n.jpg\" style=\"width: 120px; display: inline;\"><img src=\"https://scontent.cdninstagram.com/hphotos-xaf1/t51.2885-15/s640x640/sh0.08/e35/12353286_198545113819349_694447852_n.jpg\" style=\"width: 120px; display: inline;\">"
      ],
      "text/plain": [
       "<IPython.core.display.HTML object>"
      ]
     },
     "metadata": {},
     "output_type": "display_data"
    },
    {
     "name": "stdout",
     "output_type": "stream",
     "text": [
      "Topic  1 :  vacation, beach, sea, water, sand, ocean, travel, tropical, summer, leisure\n"
     ]
    },
    {
     "data": {
      "text/html": [
       "<img src=\"https://scontent.cdninstagram.com/t51.2885-15/s640x640/sh0.08/e35/13408988_284025268617570_988844988_n.jpg\" style=\"width: 120px; display: inline;\"><img src=\"https://scontent.cdninstagram.com/t51.2885-15/s640x640/sh0.08/e35/13628379_528554187327692_1425476467_n.jpg\" style=\"width: 120px; display: inline;\"><img src=\"https://scontent.cdninstagram.com/t51.2885-15/s640x640/sh0.08/e35/13561575_869264503188760_1267516346_n.jpg\" style=\"width: 120px; display: inline;\"><img src=\"https://scontent.cdninstagram.com/t51.2885-15/s480x480/e35/13712519_1562063627430014_2078005058_n.jpg\" style=\"width: 120px; display: inline;\"><img src=\"https://scontent.cdninstagram.com/t51.2885-15/s640x640/sh0.08/e35/13402518_1028481673908165_1030626595_n.jpg\" style=\"width: 120px; display: inline;\"><img src=\"https://scontent.cdninstagram.com/t51.2885-15/s640x640/sh0.08/e35/13658443_233212070410998_1659970014_n.jpg\" style=\"width: 120px; display: inline;\">"
      ],
      "text/plain": [
       "<IPython.core.display.HTML object>"
      ]
     },
     "metadata": {},
     "output_type": "display_data"
    },
    {
     "data": {
      "text/html": [
       "<img src=\"https://scontent.cdninstagram.com/t51.2885-15/s640x640/sh0.08/e35/13402223_601168270051908_449170365_n.jpg\" style=\"width: 120px; display: inline;\"><img src=\"https://scontent.cdninstagram.com/t51.2885-15/s640x640/sh0.08/e35/13098907_617673045051746_2108647777_n.jpg\" style=\"width: 120px; display: inline;\"><img src=\"https://scontent.cdninstagram.com/t51.2885-15/e15/13643590_1740611532853928_218503188_n.jpg\" style=\"width: 120px; display: inline;\"><img src=\"https://scontent.cdninstagram.com/t51.2885-15/s640x640/sh0.08/e35/13098903_1009162605806212_5988771_n.jpg\" style=\"width: 120px; display: inline;\">"
      ],
      "text/plain": [
       "<IPython.core.display.HTML object>"
      ]
     },
     "metadata": {},
     "output_type": "display_data"
    },
    {
     "name": "stdout",
     "output_type": "stream",
     "text": [
      "Topic  2 :  text, business, design, desktop, symbol, no person, education, sign, illustration, success\n"
     ]
    },
    {
     "data": {
      "text/html": [
       "<img src=\"https://scontent.cdninstagram.com/t51.2885-15/s320x320/e35/12568871_1744889982414245_1559352763_n.jpg\" style=\"width: 120px; display: inline;\"><img src=\"https://scontent.cdninstagram.com/t51.2885-15/s320x320/e35/13724629_1005081052942284_232419439_n.jpg\" style=\"width: 120px; display: inline;\"><img src=\"https://scontent.cdninstagram.com/t51.2885-15/s640x640/sh0.08/e35/12825807_1660484677535510_683766023_n.jpg\" style=\"width: 120px; display: inline;\"><img src=\"https://scontent.cdninstagram.com/t51.2885-15/s640x640/sh0.08/e35/13320156_1216059145086038_507522703_n.jpg\" style=\"width: 120px; display: inline;\"><img src=\"https://scontent.cdninstagram.com/t51.2885-15/s480x480/e35/13714170_828041034000117_274658102_n.jpg\" style=\"width: 120px; display: inline;\"><img src=\"https://scontent.cdninstagram.com/t51.2885-15/s640x640/sh0.08/e35/12552271_1657880747765821_196567543_n.jpg\" style=\"width: 120px; display: inline;\">"
      ],
      "text/plain": [
       "<IPython.core.display.HTML object>"
      ]
     },
     "metadata": {},
     "output_type": "display_data"
    },
    {
     "data": {
      "text/html": [
       "<img src=\"https://scontent.cdninstagram.com/t51.2885-15/s640x640/sh0.08/e35/13525410_1845291765692090_683316358_n.jpg\" style=\"width: 120px; display: inline;\"><img src=\"https://scontent.cdninstagram.com/hphotos-xpf1/t51.2885-15/s640x640/sh0.08/e35/927980_155935731440236_745568130_n.jpg\" style=\"width: 120px; display: inline;\"><img src=\"https://scontent.cdninstagram.com/t51.2885-15/s640x640/sh0.08/e35/13129827_1030256677030152_1585766388_n.jpg\" style=\"width: 120px; display: inline;\"><img src=\"https://scontent.cdninstagram.com/t51.2885-15/s480x480/e35/12964986_499456020253531_2044261053_n.jpg\" style=\"width: 120px; display: inline;\">"
      ],
      "text/plain": [
       "<IPython.core.display.HTML object>"
      ]
     },
     "metadata": {},
     "output_type": "display_data"
    },
    {
     "name": "stdout",
     "output_type": "stream",
     "text": [
      "Topic  3 :  lingerie, erotic, pantie, seduction, brassiere, people, thin, underwear, wear, one\n"
     ]
    },
    {
     "data": {
      "text/html": [
       "<img src=\"https://scontent.cdninstagram.com/t51.2885-15/s640x640/sh0.08/e35/13256688_1350801104949425_540747411_n.jpg\" style=\"width: 120px; display: inline;\"><img src=\"https://scontent.cdninstagram.com/t51.2885-15/s640x640/sh0.08/e35/12798003_1066498916748411_1724408379_n.jpg\" style=\"width: 120px; display: inline;\"><img src=\"https://scontent.cdninstagram.com/t51.2885-15/s640x640/sh0.08/e35/13423646_897209703758430_1157196563_n.jpg\" style=\"width: 120px; display: inline;\"><img src=\"https://scontent.cdninstagram.com/t51.2885-15/s640x640/sh0.08/e35/13584073_1245049642206741_81246313_n.jpg\" style=\"width: 120px; display: inline;\"><img src=\"https://scontent.cdninstagram.com/t51.2885-15/s640x640/sh0.08/e35/14716427_176279969486142_1197313431879811072_n.jpg\" style=\"width: 120px; display: inline;\"><img src=\"https://scontent.cdninstagram.com/t51.2885-15/s640x640/sh0.08/e35/12825807_1660484677535510_683766023_n.jpg\" style=\"width: 120px; display: inline;\">"
      ],
      "text/plain": [
       "<IPython.core.display.HTML object>"
      ]
     },
     "metadata": {},
     "output_type": "display_data"
    },
    {
     "data": {
      "text/html": [
       "<img src=\"https://scontent.cdninstagram.com/t51.2885-15/s640x640/sh0.08/e35/13277591_1042109572541181_1686630722_n.jpg\" style=\"width: 120px; display: inline;\"><img src=\"https://scontent.cdninstagram.com/t51.2885-15/s640x640/sh0.08/e35/13258963_143710369365994_1797247655_n.jpg\" style=\"width: 120px; display: inline;\"><img src=\"https://scontent.cdninstagram.com/t51.2885-15/s640x640/sh0.08/e35/12940078_1076904025727449_352186091_n.jpg\" style=\"width: 120px; display: inline;\"><img src=\"https://scontent.cdninstagram.com/t51.2885-15/s480x480/e35/14718277_229096367506920_325204465407754240_n.jpg\" style=\"width: 120px; display: inline;\">"
      ],
      "text/plain": [
       "<IPython.core.display.HTML object>"
      ]
     },
     "metadata": {},
     "output_type": "display_data"
    },
    {
     "name": "stdout",
     "output_type": "stream",
     "text": [
      "Topic  4 :  exercise, active, strength, fitness, sport, health, brawny, gymnastics, athlete, balance\n"
     ]
    },
    {
     "data": {
      "text/html": [
       "<img src=\"https://scontent.cdninstagram.com/t51.2885-15/s640x640/sh0.08/e35/1515287_900108773440621_1779086572_n.jpg\" style=\"width: 120px; display: inline;\"><img src=\"https://scontent.cdninstagram.com/t51.2885-15/s640x640/sh0.08/e35/14288092_293672330999990_452324650_n.jpg\" style=\"width: 120px; display: inline;\"><img src=\"https://scontent.cdninstagram.com/t51.2885-15/s640x640/sh0.08/e35/12818870_1713893158851467_1013222232_n.jpg\" style=\"width: 120px; display: inline;\"><img src=\"https://scontent.cdninstagram.com/t51.2885-15/s640x640/sh0.08/e35/14073220_1624776964480657_424632552_n.jpg\" style=\"width: 120px; display: inline;\"><img src=\"https://scontent.cdninstagram.com/t51.2885-15/s640x640/sh0.08/e35/13687327_664682480346871_478512275_n.jpg\" style=\"width: 120px; display: inline;\"><img src=\"https://scontent.cdninstagram.com/t51.2885-15/s640x640/sh0.08/e35/14063473_1759925330914114_1388629194_n.jpg\" style=\"width: 120px; display: inline;\">"
      ],
      "text/plain": [
       "<IPython.core.display.HTML object>"
      ]
     },
     "metadata": {},
     "output_type": "display_data"
    },
    {
     "data": {
      "text/html": [
       "<img src=\"https://scontent.cdninstagram.com/t51.2885-15/s640x640/sh0.08/e35/14128925_1757313964537443_1443083131_n.jpg\" style=\"width: 120px; display: inline;\"><img src=\"https://scontent.cdninstagram.com/t51.2885-15/s640x640/e15/13260849_1635780763411681_219872070_n.jpg\" style=\"width: 120px; display: inline;\"><img src=\"https://scontent.cdninstagram.com/t51.2885-15/s640x640/sh0.08/e35/12728603_467462423450131_255369444_n.jpg\" style=\"width: 120px; display: inline;\"><img src=\"https://scontent.cdninstagram.com/t51.2885-15/s640x640/sh0.08/e35/14072940_1010701662360359_1892989258_n.jpg\" style=\"width: 120px; display: inline;\">"
      ],
      "text/plain": [
       "<IPython.core.display.HTML object>"
      ]
     },
     "metadata": {},
     "output_type": "display_data"
    },
    {
     "name": "stdout",
     "output_type": "stream",
     "text": [
      "Topic  5 :  color, thread, no person, textile, bright, decoration, gift, fabric, accessory, celebration\n"
     ]
    },
    {
     "data": {
      "text/html": [
       "<img src=\"https://scontent.cdninstagram.com/t51.2885-15/s640x640/sh0.08/e35/13126741_519947181527758_1347356240_n.jpg\" style=\"width: 120px; display: inline;\"><img src=\"https://scontent.cdninstagram.com/t51.2885-15/s640x640/sh0.08/e35/13437248_495017067362845_1015137043_n.jpg\" style=\"width: 120px; display: inline;\"><img src=\"https://scontent.cdninstagram.com/hphotos-xaf1/t51.2885-15/s480x480/e35/12317418_843620329083634_1207723742_n.jpg\" style=\"width: 120px; display: inline;\"><img src=\"https://scontent.cdninstagram.com/t51.2885-15/s640x640/sh0.08/e35/14590964_530861377121953_471939553469399040_n.jpg\" style=\"width: 120px; display: inline;\"><img src=\"https://scontent.cdninstagram.com/t51.2885-15/s640x640/sh0.08/e35/13248748_1721960914721282_1532541551_n.jpg\" style=\"width: 120px; display: inline;\"><img src=\"https://scontent.cdninstagram.com/t51.2885-15/s640x640/sh0.08/e35/13525375_1711817755751282_1286492748_n.jpg\" style=\"width: 120px; display: inline;\">"
      ],
      "text/plain": [
       "<IPython.core.display.HTML object>"
      ]
     },
     "metadata": {},
     "output_type": "display_data"
    },
    {
     "data": {
      "text/html": [
       "<img src=\"https://scontent.cdninstagram.com/hphotos-xfp1/t51.2885-15/s640x640/sh0.08/e35/12357395_864212200366478_216982973_n.jpg\" style=\"width: 120px; display: inline;\"><img src=\"https://scontent.cdninstagram.com/t51.2885-15/s640x640/sh0.08/e35/13736815_800843080018212_1524339272_n.jpg\" style=\"width: 120px; display: inline;\"><img src=\"https://scontent.cdninstagram.com/t51.2885-15/s640x640/sh0.08/e35/13437316_1577402262558552_10993944_n.jpg\" style=\"width: 120px; display: inline;\"><img src=\"https://scontent.cdninstagram.com/t51.2885-15/s640x640/sh0.08/e35/13687032_255922554790713_540067900_n.jpg\" style=\"width: 120px; display: inline;\">"
      ],
      "text/plain": [
       "<IPython.core.display.HTML object>"
      ]
     },
     "metadata": {},
     "output_type": "display_data"
    },
    {
     "name": "stdout",
     "output_type": "stream",
     "text": [
      "Topic  6 :  street, cute, festival, man, music, city, performance, pantie, people, attractive\n"
     ]
    },
    {
     "data": {
      "text/html": [
       "<img src=\"https://scontent.cdninstagram.com/hphotos-xta1/t51.2885-15/s480x480/e35/12357490_625406877562579_53996288_n.jpg\" style=\"width: 120px; display: inline;\"><img src=\"https://scontent.cdninstagram.com/t51.2885-15/s640x640/sh0.08/e35/12446263_1716817225264598_1924581632_n.jpg\" style=\"width: 120px; display: inline;\"><img src=\"https://scontent.cdninstagram.com/t51.2885-15/s640x640/sh0.08/e35/12959956_1751853871696409_1710334704_n.jpg\" style=\"width: 120px; display: inline;\"><img src=\"https://scontent.cdninstagram.com/t51.2885-15/s640x640/sh0.08/e35/12965783_1032237443523580_617216475_n.jpg\" style=\"width: 120px; display: inline;\"><img src=\"https://scontent.cdninstagram.com/t51.2885-15/s640x640/sh0.08/e35/14709487_329964280694590_7986798699764252672_n.jpg\" style=\"width: 120px; display: inline;\"><img src=\"https://scontent.cdninstagram.com/t51.2885-15/s640x640/sh0.08/e35/12976361_1156340241066160_26777095_n.jpg\" style=\"width: 120px; display: inline;\">"
      ],
      "text/plain": [
       "<IPython.core.display.HTML object>"
      ]
     },
     "metadata": {},
     "output_type": "display_data"
    },
    {
     "data": {
      "text/html": [
       "<img src=\"https://scontent.cdninstagram.com/t51.2885-15/s640x640/sh0.08/e35/12905053_221943118161876_2112747319_n.jpg\" style=\"width: 120px; display: inline;\"><img src=\"https://scontent.cdninstagram.com/t51.2885-15/s640x640/sh0.08/e35/14574218_1804118476537601_5966778793367437312_n.jpg\" style=\"width: 120px; display: inline;\"><img src=\"https://scontent.cdninstagram.com/t51.2885-15/s640x640/sh0.08/e35/14487188_1174131035958815_8063284439444094976_n.jpg\" style=\"width: 120px; display: inline;\"><img src=\"https://scontent.cdninstagram.com/t51.2885-15/s640x640/sh0.08/e35/14294720_1781398428782688_4723158385606787072_n.jpg\" style=\"width: 120px; display: inline;\">"
      ],
      "text/plain": [
       "<IPython.core.display.HTML object>"
      ]
     },
     "metadata": {},
     "output_type": "display_data"
    },
    {
     "name": "stdout",
     "output_type": "stream",
     "text": [
      "Topic  7 :  illustration, character, funny, art, far-out, sketch, simple, scribble, celebration, cockamamie\n"
     ]
    },
    {
     "data": {
      "text/html": [
       "<img src=\"https://scontent.cdninstagram.com/t51.2885-15/s640x640/sh0.08/e35/10375627_1583129052009234_2032723849_n.jpg\" style=\"width: 120px; display: inline;\"><img src=\"https://scontent.cdninstagram.com/t51.2885-15/s640x640/sh0.08/e35/12907350_1141778265863008_1062281719_n.jpg\" style=\"width: 120px; display: inline;\"><img src=\"https://scontent.cdninstagram.com/t51.2885-15/s480x480/e35/13392764_134820043606196_410551558_n.jpg\" style=\"width: 120px; display: inline;\"><img src=\"https://scontent.cdninstagram.com/t51.2885-15/s480x480/e35/13774297_552044301649532_2038344573_n.jpg\" style=\"width: 120px; display: inline;\"><img src=\"https://scontent.cdninstagram.com/hphotos-xap1/t51.2885-15/e15/12362450_947192358650379_1152072699_n.jpg\" style=\"width: 120px; display: inline;\"><img src=\"https://scontent.cdninstagram.com/t51.2885-15/s640x640/sh0.08/e35/c59.0.961.961/14676608_1310473442328646_8071139960398282752_n.jpg\" style=\"width: 120px; display: inline;\">"
      ],
      "text/plain": [
       "<IPython.core.display.HTML object>"
      ]
     },
     "metadata": {},
     "output_type": "display_data"
    },
    {
     "data": {
      "text/html": [
       "<img src=\"https://scontent.cdninstagram.com/t51.2885-15/s480x480/e35/14310743_1823260721250998_1205352258_n.jpg\" style=\"width: 120px; display: inline;\"><img src=\"https://scontent.cdninstagram.com/t51.2885-15/s640x640/sh0.08/e35/13126741_519947181527758_1347356240_n.jpg\" style=\"width: 120px; display: inline;\"><img src=\"https://scontent.cdninstagram.com/hphotos-xpf1/t51.2885-15/s640x640/sh0.08/e35/12317620_206331543033826_2145188838_n.jpg\" style=\"width: 120px; display: inline;\"><img src=\"https://scontent.cdninstagram.com/t51.2885-15/s640x640/sh0.08/e35/12328041_1151484164874688_1542049771_n.jpg\" style=\"width: 120px; display: inline;\">"
      ],
      "text/plain": [
       "<IPython.core.display.HTML object>"
      ]
     },
     "metadata": {},
     "output_type": "display_data"
    },
    {
     "name": "stdout",
     "output_type": "stream",
     "text": [
      "Topic  8 :  footwear, person, shoe, foot, attractive, funny, character, sneakers, contemporary, beautiful\n"
     ]
    },
    {
     "data": {
      "text/html": [
       "<img src=\"https://scontent.cdninstagram.com/t51.2885-15/s640x640/sh0.08/e35/12907350_1141778265863008_1062281719_n.jpg\" style=\"width: 120px; display: inline;\"><img src=\"https://scontent.cdninstagram.com/t51.2885-15/s480x480/e35/13774297_552044301649532_2038344573_n.jpg\" style=\"width: 120px; display: inline;\"><img src=\"https://scontent.cdninstagram.com/t51.2885-15/s480x480/e35/13392764_134820043606196_410551558_n.jpg\" style=\"width: 120px; display: inline;\"><img src=\"https://scontent.cdninstagram.com/t51.2885-15/s640x640/sh0.08/e35/10375627_1583129052009234_2032723849_n.jpg\" style=\"width: 120px; display: inline;\"><img src=\"https://scontent.cdninstagram.com/t51.2885-15/s480x480/e35/14693866_1372152682825664_413405999697756160_n.jpg\" style=\"width: 120px; display: inline;\"><img src=\"https://scontent.cdninstagram.com/t51.2885-15/s640x640/sh0.08/e35/c0.29.704.704/14718034_210872182669864_6567748514552479744_n.jpg\" style=\"width: 120px; display: inline;\">"
      ],
      "text/plain": [
       "<IPython.core.display.HTML object>"
      ]
     },
     "metadata": {},
     "output_type": "display_data"
    },
    {
     "data": {
      "text/html": [
       "<img src=\"https://scontent.cdninstagram.com/hphotos-xat1/t51.2885-15/s640x640/sh0.08/e35/12338806_2051423334996959_182809630_n.jpg\" style=\"width: 120px; display: inline;\"><img src=\"https://scontent.cdninstagram.com/hphotos-xft1/t51.2885-15/s640x640/sh0.08/e35/12317849_536364036540405_1057417827_n.jpg\" style=\"width: 120px; display: inline;\"><img src=\"https://scontent.cdninstagram.com/hphotos-xfp1/t51.2885-15/s640x640/sh0.08/e35/1516607_158577067841723_655946103_n.jpg\" style=\"width: 120px; display: inline;\"><img src=\"https://scontent.cdninstagram.com/t51.2885-15/s480x480/e35/14474258_298741023830269_3454168546626502656_n.jpg\" style=\"width: 120px; display: inline;\">"
      ],
      "text/plain": [
       "<IPython.core.display.HTML object>"
      ]
     },
     "metadata": {},
     "output_type": "display_data"
    },
    {
     "name": "stdout",
     "output_type": "stream",
     "text": [
      "Topic  9 :  indoors, family, festival, music, performance, furniture, concert, light, sofa, room\n"
     ]
    },
    {
     "data": {
      "text/html": [
       "<img src=\"https://scontent.cdninstagram.com/t51.2885-15/s640x640/sh0.08/e35/14718231_100225457128508_4726171305164931072_n.jpg\" style=\"width: 120px; display: inline;\"><img src=\"https://scontent.cdninstagram.com/t51.2885-15/s640x640/sh0.08/e35/14714538_961886977291411_8771730022084902912_n.jpg\" style=\"width: 120px; display: inline;\"><img src=\"https://scontent.cdninstagram.com/t51.2885-15/s640x640/sh0.08/e35/13739420_1613237938967783_570028015_n.jpg\" style=\"width: 120px; display: inline;\"><img src=\"https://scontent.cdninstagram.com/hphotos-xta1/t51.2885-15/s480x480/e35/12357490_625406877562579_53996288_n.jpg\" style=\"width: 120px; display: inline;\"><img src=\"https://scontent.cdninstagram.com/hphotos-xfp1/t51.2885-15/s640x640/sh0.08/e35/1516607_158577067841723_655946103_n.jpg\" style=\"width: 120px; display: inline;\"><img src=\"https://scontent.cdninstagram.com/t51.2885-15/s640x640/sh0.08/e35/12905053_221943118161876_2112747319_n.jpg\" style=\"width: 120px; display: inline;\">"
      ],
      "text/plain": [
       "<IPython.core.display.HTML object>"
      ]
     },
     "metadata": {},
     "output_type": "display_data"
    },
    {
     "data": {
      "text/html": [
       "<img src=\"https://scontent.cdninstagram.com/hphotos-xpa1/l/t51.2885-15/s320x320/e35/1169167_531317863711777_1798504937_n.jpg\" style=\"width: 120px; display: inline;\"><img src=\"https://scontent.cdninstagram.com/hphotos-xat1/t51.2885-15/s640x640/sh0.08/e35/12338806_2051423334996959_182809630_n.jpg\" style=\"width: 120px; display: inline;\"><img src=\"https://scontent.cdninstagram.com/t51.2885-15/s480x480/e35/12905145_1523550001283140_653046382_n.jpg\" style=\"width: 120px; display: inline;\"><img src=\"https://scontent.cdninstagram.com/t51.2885-15/s480x480/e35/13557112_1729265567327305_937827428_n.jpg\" style=\"width: 120px; display: inline;\">"
      ],
      "text/plain": [
       "<IPython.core.display.HTML object>"
      ]
     },
     "metadata": {},
     "output_type": "display_data"
    }
   ],
   "source": [
    "m_elem = 10\n",
    "\n",
    "for i, line in enumerate(Docs):\n",
    "    sorted_values = sorted(enumerate(line), key=lambda x: -np.abs(x[1]))[:m_elem]\n",
    "    # dgroups[i] = map(lambda x: tags_list[x[0]], sorted_values)\n",
    "    print \"Topic \", i, \": \", ', '.join(tgroups[i])\n",
    "    show_grid([ mec.docs[x[0]] for x in sorted_values])\n",
    "    "
   ]
  },
  {
   "cell_type": "code",
   "execution_count": null,
   "metadata": {
    "collapsed": true
   },
   "outputs": [],
   "source": []
  }
 ],
 "metadata": {
  "kernelspec": {
   "display_name": "Python 2",
   "language": "python",
   "name": "python2"
  },
  "language_info": {
   "codemirror_mode": {
    "name": "ipython",
    "version": 2
   },
   "file_extension": ".py",
   "mimetype": "text/x-python",
   "name": "python",
   "nbconvert_exporter": "python",
   "pygments_lexer": "ipython2",
   "version": "2.7.12"
  }
 },
 "nbformat": 4,
 "nbformat_minor": 2
}
