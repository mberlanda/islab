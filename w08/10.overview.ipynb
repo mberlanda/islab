{
 "cells": [
  {
   "cell_type": "markdown",
   "metadata": {
    "deletable": true,
    "editable": true
   },
   "source": [
    "# Overview of classification models\n",
    "This notebook provides a comparative overview of supervised and unsupervised classification models mainly based on Sklearn implementation.\n",
    "\n",
    "Methods are:\n",
    "- Kmeans\n",
    "- Expectation Maximization\n",
    "- Hierarchical agglomerative clustering\n",
    "- Affinity propagation\n",
    "- Mean-shift\n",
    "- Spectral clustering\n",
    "- DBSCAN"
   ]
  },
  {
   "cell_type": "markdown",
   "metadata": {
    "deletable": true,
    "editable": true
   },
   "source": [
    "# Environment"
   ]
  },
  {
   "cell_type": "code",
   "execution_count": 1,
   "metadata": {
    "collapsed": false,
    "deletable": true,
    "editable": true
   },
   "outputs": [
    {
     "name": "stdout",
     "output_type": "stream",
     "text": [
      "importing Jupyter notebook from supervised.ipynb\n"
     ]
    }
   ],
   "source": [
    "import nbimporter\n",
    "from supervised import Dataset\n",
    "import numpy as np\n",
    "import matplotlib.pyplot as plt"
   ]
  },
  {
   "cell_type": "markdown",
   "metadata": {
    "deletable": true,
    "editable": true
   },
   "source": [
    "## Synthetic dataset"
   ]
  },
  {
   "cell_type": "code",
   "execution_count": 2,
   "metadata": {
    "collapsed": false,
    "deletable": true,
    "editable": true
   },
   "outputs": [],
   "source": [
    "from sklearn.datasets.samples_generator import make_blobs\n",
    "\n",
    "samples, training_p = 5000, 0.7\n",
    "x_t = int(np.ceil(samples*training_p))\n",
    "seeds = [[1, 0], [0, 1], [1, 1], [2, 2], [2, 0], [0, 2], [2, 1], [1, 2]]\n",
    "R, E = make_blobs(n_samples=samples, centers=seeds, cluster_std=0.25)\n",
    "R += np.array([100, 100])\n",
    "tr_docs, te_docs = range(0, x_t), range(x_t, samples)\n",
    "tr_labels, te_labels = E[:x_t], E[x_t:]\n",
    "tr_data, te_data = R[:x_t, :], R[x_t:, :]\n",
    "SD = Dataset((tr_data, te_data), list(set(E)), (tr_docs, te_docs), (tr_labels, te_labels))"
   ]
  },
  {
   "cell_type": "markdown",
   "metadata": {
    "deletable": true,
    "editable": true
   },
   "source": [
    "## Set-up the dataset"
   ]
  },
  {
   "cell_type": "code",
   "execution_count": 3,
   "metadata": {
    "collapsed": false,
    "deletable": true,
    "editable": true
   },
   "outputs": [],
   "source": [
    "T = SD\n",
    "experiments, e_labels, e_time = [], [], []"
   ]
  },
  {
   "cell_type": "markdown",
   "metadata": {
    "deletable": true,
    "editable": true
   },
   "source": [
    "## KMeans"
   ]
  },
  {
   "cell_type": "code",
   "execution_count": 4,
   "metadata": {
    "collapsed": true,
    "deletable": true,
    "editable": true
   },
   "outputs": [],
   "source": [
    "import sklearn.cluster as cls\n",
    "\n",
    "experiments.append('KMeans')\n",
    "km_labels, km_time = T.clustering(cls.KMeans(n_clusters=len(T.categories)))\n",
    "e_labels.append(km_labels)\n",
    "e_time.append(km_time)"
   ]
  },
  {
   "cell_type": "markdown",
   "metadata": {
    "deletable": true,
    "editable": true
   },
   "source": [
    "## Hierarchical clustering"
   ]
  },
  {
   "cell_type": "code",
   "execution_count": 5,
   "metadata": {
    "collapsed": false,
    "deletable": true,
    "editable": true
   },
   "outputs": [],
   "source": [
    "experiments.append('Ward HC')\n",
    "hw_labels, hw_time = T.clustering(cls.AgglomerativeClustering(n_clusters=len(T.categories), linkage='ward'))\n",
    "e_labels.append(hw_labels)\n",
    "e_time.append(hw_time)\n",
    "\n",
    "experiments.append('Complete HC')\n",
    "ch_labels, ch_time = T.clustering(cls.AgglomerativeClustering(n_clusters=len(T.categories), linkage='complete'))\n",
    "e_labels.append(ch_labels)\n",
    "e_time.append(ch_time)\n",
    "\n",
    "experiments.append('Average HC')\n",
    "sh_labels, sh_time = T.clustering(cls.AgglomerativeClustering(n_clusters=len(T.categories), linkage='average'))\n",
    "e_labels.append(sh_labels)\n",
    "e_time.append(sh_time)"
   ]
  },
  {
   "cell_type": "markdown",
   "metadata": {
    "deletable": true,
    "editable": true
   },
   "source": [
    "## Mean-shift"
   ]
  },
  {
   "cell_type": "code",
   "execution_count": 6,
   "metadata": {
    "collapsed": true,
    "deletable": true,
    "editable": true
   },
   "outputs": [],
   "source": [
    "experiments.append('Mean-shift')\n",
    "mh_labels, mh_time = T.clustering(cls.MeanShift(bin_seeding=False, cluster_all=False))\n",
    "e_labels.append(mh_labels)\n",
    "e_time.append(mh_time)"
   ]
  },
  {
   "cell_type": "markdown",
   "metadata": {
    "deletable": true,
    "editable": true
   },
   "source": [
    "## Spectral clustering"
   ]
  },
  {
   "cell_type": "code",
   "execution_count": 7,
   "metadata": {
    "collapsed": false,
    "deletable": true,
    "editable": true
   },
   "outputs": [],
   "source": [
    "experiments.append('Spectral Clustering')\n",
    "se_labels, se_time = T.clustering(cls.SpectralClustering(n_clusters=len(T.categories)))\n",
    "e_labels.append(se_labels)\n",
    "e_time.append(se_time)"
   ]
  },
  {
   "cell_type": "markdown",
   "metadata": {
    "deletable": true,
    "editable": true
   },
   "source": [
    "## DBSCAN"
   ]
  },
  {
   "cell_type": "code",
   "execution_count": 8,
   "metadata": {
    "collapsed": true,
    "deletable": true,
    "editable": true
   },
   "outputs": [],
   "source": [
    "experiments.append('DBSCAN')\n",
    "db_labels, db_time = T.clustering(cls.DBSCAN(eps=0.1, min_samples=6))\n",
    "e_labels.append(db_labels)\n",
    "e_time.append(db_time)"
   ]
  },
  {
   "cell_type": "markdown",
   "metadata": {
    "deletable": true,
    "editable": true
   },
   "source": [
    "# Evaluation"
   ]
  },
  {
   "cell_type": "code",
   "execution_count": 9,
   "metadata": {
    "collapsed": false,
    "deletable": true,
    "editable": true
   },
   "outputs": [],
   "source": [
    "from sklearn import metrics\n",
    "from IPython.core.display import display, HTML\n",
    "\n",
    "headers = ['Method', 'Rand', 'MI', 'Prec.', 'Recall', 'F1', 'Time (T)', 'Time (P)', 'Time']\n",
    "table = \"<table style='width: 100%;'>\"\n",
    "table += \"<tr><th style='text-align: center;'>\" + \"</th><th style='text-align: right;'>\".join(headers) + \"</th></tr>\"\n",
    "for i, e in enumerate(experiments):\n",
    "    e_l = e_labels[i]\n",
    "    rand = metrics.adjusted_rand_score(T.testing_labels, e_l)\n",
    "    mi = metrics.adjusted_mutual_info_score(T.testing_labels, e_l) \n",
    "    precision = metrics.homogeneity_score(T.testing_labels, e_l)\n",
    "    recall = metrics.completeness_score(T.testing_labels, e_l) \n",
    "    f = (2*precision*recall) / (precision + recall)\n",
    "    data = [e, round(rand, 3), round(mi, 3), round(precision, 3), round(recall, 3), round(f, 3), \n",
    "            round(e_time[i][0], 3), round(e_time[i][1], 3), round(e_time[i][0]+e_time[i][1], 3)]\n",
    "    data[5] = \"<strong>\" + str(data[5]) + \"</strong>\"\n",
    "    data[8] = \"<strong>\" + str(data[8]) + \"</strong>\"\n",
    "    table += \"<tr><th style='text-align: center;'>\"\n",
    "    table += \"</td><td style='text-align: right;'>\".join([str(x) for x in data])\n",
    "    table += \"</td></tr>\"\n",
    "table += \"</table>\""
   ]
  },
  {
   "cell_type": "code",
   "execution_count": 10,
   "metadata": {
    "collapsed": false,
    "deletable": true,
    "editable": true
   },
   "outputs": [
    {
     "data": {
      "text/html": [
       "<table style='width: 100%;'><tr><th style='text-align: center;'>Method</th><th style='text-align: right;'>Rand</th><th style='text-align: right;'>MI</th><th style='text-align: right;'>Prec.</th><th style='text-align: right;'>Recall</th><th style='text-align: right;'>F1</th><th style='text-align: right;'>Time (T)</th><th style='text-align: right;'>Time (P)</th><th style='text-align: right;'>Time</th></tr><tr><th style='text-align: center;'>KMeans</td><td style='text-align: right;'>0.884</td><td style='text-align: right;'>0.88</td><td style='text-align: right;'>0.881</td><td style='text-align: right;'>0.881</td><td style='text-align: right;'><strong>0.881</strong></td><td style='text-align: right;'>0.0</td><td style='text-align: right;'>0.039</td><td style='text-align: right;'><strong>0.039</strong></td></tr><tr><th style='text-align: center;'>Ward HC</td><td style='text-align: right;'>0.818</td><td style='text-align: right;'>0.835</td><td style='text-align: right;'>0.836</td><td style='text-align: right;'>0.839</td><td style='text-align: right;'><strong>0.838</strong></td><td style='text-align: right;'>0.0</td><td style='text-align: right;'>0.07</td><td style='text-align: right;'><strong>0.07</strong></td></tr><tr><th style='text-align: center;'>Complete HC</td><td style='text-align: right;'>0.728</td><td style='text-align: right;'>0.779</td><td style='text-align: right;'>0.78</td><td style='text-align: right;'>0.791</td><td style='text-align: right;'><strong>0.786</strong></td><td style='text-align: right;'>0.0</td><td style='text-align: right;'>0.044</td><td style='text-align: right;'><strong>0.044</strong></td></tr><tr><th style='text-align: center;'>Average HC</td><td style='text-align: right;'>0.854</td><td style='text-align: right;'>0.863</td><td style='text-align: right;'>0.864</td><td style='text-align: right;'>0.865</td><td style='text-align: right;'><strong>0.865</strong></td><td style='text-align: right;'>0.0</td><td style='text-align: right;'>0.039</td><td style='text-align: right;'><strong>0.039</strong></td></tr><tr><th style='text-align: center;'>Mean-shift</td><td style='text-align: right;'>0.203</td><td style='text-align: right;'>0.245</td><td style='text-align: right;'>0.246</td><td style='text-align: right;'>0.738</td><td style='text-align: right;'><strong>0.369</strong></td><td style='text-align: right;'>0.0</td><td style='text-align: right;'>3.336</td><td style='text-align: right;'><strong>3.336</strong></td></tr><tr><th style='text-align: center;'>Spectral Clustering</td><td style='text-align: right;'>0.869</td><td style='text-align: right;'>0.868</td><td style='text-align: right;'>0.869</td><td style='text-align: right;'>0.869</td><td style='text-align: right;'><strong>0.869</strong></td><td style='text-align: right;'>0.0</td><td style='text-align: right;'>0.301</td><td style='text-align: right;'><strong>0.301</strong></td></tr><tr><th style='text-align: center;'>DBSCAN</td><td style='text-align: right;'>0.667</td><td style='text-align: right;'>0.686</td><td style='text-align: right;'>0.779</td><td style='text-align: right;'>0.692</td><td style='text-align: right;'><strong>0.733</strong></td><td style='text-align: right;'>0.0</td><td style='text-align: right;'>0.011</td><td style='text-align: right;'><strong>0.011</strong></td></tr></table>"
      ],
      "text/plain": [
       "<IPython.core.display.HTML object>"
      ]
     },
     "metadata": {},
     "output_type": "display_data"
    }
   ],
   "source": [
    "display(HTML(table))"
   ]
  },
  {
   "cell_type": "code",
   "execution_count": null,
   "metadata": {
    "collapsed": false,
    "deletable": true,
    "editable": true
   },
   "outputs": [],
   "source": []
  },
  {
   "cell_type": "code",
   "execution_count": null,
   "metadata": {
    "collapsed": true,
    "deletable": true,
    "editable": true
   },
   "outputs": [],
   "source": []
  },
  {
   "cell_type": "code",
   "execution_count": null,
   "metadata": {
    "collapsed": true,
    "deletable": true,
    "editable": true
   },
   "outputs": [],
   "source": []
  }
 ],
 "metadata": {
  "kernelspec": {
   "display_name": "Python 2",
   "language": "python",
   "name": "python2"
  },
  "language_info": {
   "codemirror_mode": {
    "name": "ipython",
    "version": 2
   },
   "file_extension": ".py",
   "mimetype": "text/x-python",
   "name": "python",
   "nbconvert_exporter": "python",
   "pygments_lexer": "ipython2",
   "version": "2.7.12"
  }
 },
 "nbformat": 4,
 "nbformat_minor": 2
}
