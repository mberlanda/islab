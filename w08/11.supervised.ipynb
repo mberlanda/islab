{
 "cells": [
  {
   "cell_type": "code",
   "execution_count": 1,
   "metadata": {
    "collapsed": false,
    "deletable": true,
    "editable": true
   },
   "outputs": [
    {
     "name": "stdout",
     "output_type": "stream",
     "text": [
      "importing Jupyter notebook from langmodels.ipynb\n",
      "importing Jupyter notebook from utils.ipynb\n"
     ]
    }
   ],
   "source": [
    "import nbimporter\n",
    "from collections import Counter\n",
    "import numpy as np\n",
    "import time"
   ]
  },
  {
   "cell_type": "markdown",
   "metadata": {
    "deletable": true,
    "editable": true
   },
   "source": [
    "# Vector space classification"
   ]
  },
  {
   "cell_type": "code",
   "execution_count": 67,
   "metadata": {
    "collapsed": true,
    "deletable": true,
    "editable": true
   },
   "outputs": [],
   "source": [
    "from collections import Counter\n",
    "from IPython.display import clear_output\n",
    "from sklearn.decomposition import PCA\n",
    "from scipy.spatial import distance\n",
    "import numpy as no\n",
    "import pymongo\n",
    "\n",
    "\n"
   ]
  },
  {
   "cell_type": "code",
   "execution_count": null,
   "metadata": {
    "collapsed": true,
    "deletable": true,
    "editable": true
   },
   "outputs": [],
   "source": [
    "class Dataset():\n",
    "    \n",
    "    def __init__(self, data, categories, docs, labels):\n",
    "        \"\"\"\n",
    "        data is a tuple (training, testing)\n",
    "        docs is a tuple (training, testing) of doc ids\n",
    "        labels is a tuple (training, testing) of numeric labels\n",
    "        \"\"\"\n",
    "        self.categories = categories\n",
    "        self.training_data = data[0]\n",
    "        self.testing_data = data[1]\n",
    "        self.training_docs = docs[0]\n",
    "        self.testing_docs = docs[1]\n",
    "        self.training_labels = labels[0]\n",
    "        self.testing_labels = labels[1]\n",
    "            \n",
    "    def reduce_dimensions(self, dim=100):\n",
    "        pca = PCA(n_components=dim)\n",
    "        pca.fit(self.training_data)\n",
    "        self.training_data = pca.transform(self.training_data)\n",
    "        m = self.training_data.min()\n",
    "        if m < 0: \n",
    "            m *= -1\n",
    "            self.training_data += np.array([m]*dim)\n",
    "        pca = PCA(n_components=dim)\n",
    "        pca.fit(self.testing_data)\n",
    "        self.testing_data = pca.transform(self.testing_data)\n",
    "        m = self.testing_data.min()\n",
    "        if m < 0: \n",
    "            m *= -1\n",
    "            self.testing_data += np.array([m]*dim)\n",
    "    \n",
    "    def clustering(self, cl_class):\n",
    "        start = time.time()\n",
    "        cl_class.fit(self.testing_data)\n",
    "        testing_time = time.time() - start\n",
    "        return cl_class.labels_, (0, testing_time)\n",
    "\n",
    "        \n",
    "\n"
   ]
  }
 ],
 "metadata": {
  "kernelspec": {
   "display_name": "Python 2",
   "language": "python",
   "name": "python2"
  },
  "language_info": {
   "codemirror_mode": {
    "name": "ipython",
    "version": 2
   },
   "file_extension": ".py",
   "mimetype": "text/x-python",
   "name": "python",
   "nbconvert_exporter": "python",
   "pygments_lexer": "ipython2",
   "version": "2.7.12"
  }
 },
 "nbformat": 4,
 "nbformat_minor": 2
}
