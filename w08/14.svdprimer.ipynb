{
 "cells": [
  {
   "cell_type": "markdown",
   "metadata": {
    "deletable": true,
    "editable": true
   },
   "source": [
    "# SVD step-by-step"
   ]
  },
  {
   "cell_type": "code",
   "execution_count": 19,
   "metadata": {
    "collapsed": false,
    "deletable": true,
    "editable": true
   },
   "outputs": [],
   "source": [
    "import numpy as np\n",
    "\n",
    "\n",
    "# Easy SVD\n",
    "k = 3\n",
    "A = np.array([\n",
    "    [1, 2, 1],\n",
    "    [3, 0, 1],\n",
    "    [1, 1, 3],\n",
    "    [8, 0, 12]\n",
    "])\n",
    "\n",
    "B = np.dot(A.T, A)"
   ]
  },
  {
   "cell_type": "code",
   "execution_count": 20,
   "metadata": {
    "collapsed": false,
    "deletable": true,
    "editable": true
   },
   "outputs": [],
   "source": [
    "lb, vb = np.linalg.eig(B)"
   ]
  },
  {
   "cell_type": "code",
   "execution_count": 21,
   "metadata": {
    "collapsed": false,
    "deletable": true,
    "editable": true
   },
   "outputs": [],
   "source": [
    "sigmas = np.array([np.sqrt(x) for x in lb])\n",
    "r = np.array([np.dot(A, vb.T[i]) / s for i, s in enumerate(sigmas)])"
   ]
  },
  {
   "cell_type": "code",
   "execution_count": 22,
   "metadata": {
    "collapsed": false,
    "deletable": true,
    "editable": true
   },
   "outputs": [],
   "source": [
    "# sort according to eigenvalues and get K\n",
    "lpos = [i for i, w in sorted(enumerate(lb), key=lambda j: -j[1])][:k]\n",
    "ssigmas = [sigmas[i] for i in lpos]\n",
    "sr = np.array([r[i] for i in lpos])\n",
    "svb = np.array([vb.T[i] for i in lpos])\n",
    "\n",
    "Sigma = np.diag(ssigmas)\n",
    "U = sr.T\n",
    "V = svb\n",
    "\n",
    "P1 = np.dot(U, Sigma)\n",
    "P2 = np.dot(P1, V)\n"
   ]
  },
  {
   "cell_type": "code",
   "execution_count": null,
   "metadata": {
    "collapsed": true,
    "deletable": true,
    "editable": true
   },
   "outputs": [],
   "source": [
    "print np.allclose(P2, A) # for K = A.shape[1]\n",
    "\n",
    "# numpy version\n",
    "Unp, snp, Vnp = np.linalg.svd(A, full_matrices=False)\n",
    "Snp = np.diag(snp)\n",
    "Pn2 = np.dot(np.dot(Unp, Snp), Vnp)\n",
    "\n",
    "print np.allclose(Pn2, A)\n",
    "\n",
    "\n",
    "\n",
    "\n"
   ]
  },
  {
   "cell_type": "markdown",
   "metadata": {
    "deletable": true,
    "editable": true
   },
   "source": [
    "full_matrices : bool, optional\n",
    "\n",
    "If True (default), u and v have the shapes (M, M) and (N, N), respectively. Otherwise, the shapes are (M, K) and (K, N), respectively, where K = min(M, N)."
   ]
  },
  {
   "cell_type": "code",
   "execution_count": null,
   "metadata": {
    "collapsed": true,
    "deletable": true,
    "editable": true
   },
   "outputs": [],
   "source": []
  }
 ],
 "metadata": {
  "kernelspec": {
   "display_name": "Python 2",
   "language": "python",
   "name": "python2"
  },
  "language_info": {
   "codemirror_mode": {
    "name": "ipython",
    "version": 2
   },
   "file_extension": ".py",
   "mimetype": "text/x-python",
   "name": "python",
   "nbconvert_exporter": "python",
   "pygments_lexer": "ipython2",
   "version": "2.7.12"
  }
 },
 "nbformat": 4,
 "nbformat_minor": 2
}
