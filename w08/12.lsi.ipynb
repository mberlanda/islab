{
 "cells": [
  {
   "cell_type": "markdown",
   "metadata": {
    "deletable": true,
    "editable": true
   },
   "source": [
    "# Overview of Latent Semantic Indexing"
   ]
  },
  {
   "cell_type": "markdown",
   "metadata": {
    "deletable": true,
    "editable": true
   },
   "source": [
    "## Running example"
   ]
  },
  {
   "cell_type": "code",
   "execution_count": 1,
   "metadata": {
    "collapsed": true,
    "deletable": true,
    "editable": true
   },
   "outputs": [],
   "source": [
    "from collections import Counter\n",
    "import numpy as np\n",
    "from IPython.core.display import display, HTML\n",
    "\n",
    "\n",
    "def data_to_table(D):\n",
    "    row = \"<th>DocId</th><th>Tokens</th>\"\n",
    "    table = \"<table><tr>\"+row+\"</tr>\"\n",
    "    for i, doc in enumerate(D):\n",
    "        row = \"<tr><td>\" + str(i) + \"</td><td>\"+\" \".join(doc)+'</td>'+\"</tr>\"\n",
    "        table += row\n",
    "    table += '</table>'\n",
    "    return table \n",
    "\n",
    "def near_tables(t1, t2):\n",
    "    p = \"<style>table,td,tr,th {border:none!important} th {border-bottom:solid!important}</style>\"\n",
    "    p += \"<table><tr><td style='vertical-align: top;'>\"\n",
    "    p += t1 + \"</td><td style='vertical-align: top;'>\"\n",
    "    p += t2 + \"</td></tr></table>\"\n",
    "    return p\n",
    "\n",
    "def to_table(tokens, M, rnd=3, bold_th=0.0):\n",
    "    row = \"<th></th>\" + \"\".join(['<th style=\"text-align: center;\">'+str(x)+'</th>' for x in range(0, M.shape[1])])\n",
    "    table = \"<table><tr>\"+row+\"</tr>\"\n",
    "    for i, token in enumerate(M):\n",
    "        cells = []\n",
    "        for x in token:\n",
    "            if x > bold_th:\n",
    "                s = \"font-weight: bold; background-color: #eeee00;\"\n",
    "            else:\n",
    "                s = \"font-weight: normal;\"\n",
    "            cell = '<td style=\"text-align: center; '+s+'\">'+str(round(x, rnd))+'</td>'\n",
    "            cells.append(cell)\n",
    "        row = \"<tr><td style='text-align: right;'>\" + tokens[i] + \"</td>\"+\"\".join(cells)+\"</tr>\"\n",
    "        table += row\n",
    "    table += '</table>'\n",
    "    return table\n",
    "\n",
    "def model(tokens, docs, tf_idf=False):\n",
    "    dictionary, tf = {}, {}\n",
    "    for i, d in enumerate(docs):\n",
    "        tf[i] = dict(Counter(d).most_common())\n",
    "        for k in tf[i].keys():\n",
    "            try:\n",
    "                dictionary[k] += 1\n",
    "            except KeyError:\n",
    "                dictionary[k] = 1\n",
    "    M = np.zeros((len(tokens), len(docs)))\n",
    "    for i in range(0, len(tokens)):\n",
    "        k = tokens[i]\n",
    "        for j, d in enumerate(docs):\n",
    "            try:\n",
    "                tfw = float(tf[j][k])\n",
    "            except KeyError:\n",
    "                tfw = 0\n",
    "            if tf_idf:\n",
    "                M[i,j] = tfw * (np.log(float(len(docs) / dictionary[k])))\n",
    "            else:\n",
    "                M[i,j] = tfw\n",
    "    return M"
   ]
  },
  {
   "cell_type": "code",
   "execution_count": 2,
   "metadata": {
    "collapsed": false,
    "deletable": true,
    "editable": true
   },
   "outputs": [],
   "source": [
    "dataset = [\n",
    "    ['apple', 'ios', 'mac', 'book'],\n",
    "    ['apple', 'mac', 'book', 'apple', 'store'],\n",
    "    ['microsoft', 'ibm', 'apple', 'oracle'],\n",
    "    ['microsoft', 'book', 'store'],\n",
    "    ['mac', 'book', 'store'],\n",
    "    ['apple', 'banana', 'mango', 'fruit'],\n",
    "    ['apple', 'fruit'],\n",
    "    ['banana', 'apple', 'orange', 'strawberry']\n",
    "]\n",
    "\n",
    "tokens = set()\n",
    "for d in dataset:\n",
    "    for t in d:\n",
    "        tokens.add(t)\n",
    "tokens = sorted(list(tokens))\n",
    "\n",
    "T = model(tokens, dataset)"
   ]
  },
  {
   "cell_type": "code",
   "execution_count": 3,
   "metadata": {
    "collapsed": false,
    "deletable": true,
    "editable": true
   },
   "outputs": [
    {
     "data": {
      "text/html": [
       "<style>table,td,tr,th {border:none!important} th {border-bottom:solid!important}</style><table><tr><td style='vertical-align: top;'><table><tr><th>DocId</th><th>Tokens</th></tr><tr><td>0</td><td>apple ios mac book</td></tr><tr><td>1</td><td>apple mac book apple store</td></tr><tr><td>2</td><td>microsoft ibm apple oracle</td></tr><tr><td>3</td><td>microsoft book store</td></tr><tr><td>4</td><td>mac book store</td></tr><tr><td>5</td><td>apple banana mango fruit</td></tr><tr><td>6</td><td>apple fruit</td></tr><tr><td>7</td><td>banana apple orange strawberry</td></tr></table></td><td style='vertical-align: top;'><table><tr><th></th><th style=\"text-align: center;\">0</th><th style=\"text-align: center;\">1</th><th style=\"text-align: center;\">2</th><th style=\"text-align: center;\">3</th><th style=\"text-align: center;\">4</th><th style=\"text-align: center;\">5</th><th style=\"text-align: center;\">6</th><th style=\"text-align: center;\">7</th></tr><tr><td style='text-align: right;'>apple</td><td style=\"text-align: center; font-weight: bold; background-color: #eeee00;\">1.0</td><td style=\"text-align: center; font-weight: bold; background-color: #eeee00;\">2.0</td><td style=\"text-align: center; font-weight: bold; background-color: #eeee00;\">1.0</td><td style=\"text-align: center; font-weight: normal;\">0.0</td><td style=\"text-align: center; font-weight: normal;\">0.0</td><td style=\"text-align: center; font-weight: bold; background-color: #eeee00;\">1.0</td><td style=\"text-align: center; font-weight: bold; background-color: #eeee00;\">1.0</td><td style=\"text-align: center; font-weight: bold; background-color: #eeee00;\">1.0</td></tr><tr><td style='text-align: right;'>banana</td><td style=\"text-align: center; font-weight: normal;\">0.0</td><td style=\"text-align: center; font-weight: normal;\">0.0</td><td style=\"text-align: center; font-weight: normal;\">0.0</td><td style=\"text-align: center; font-weight: normal;\">0.0</td><td style=\"text-align: center; font-weight: normal;\">0.0</td><td style=\"text-align: center; font-weight: bold; background-color: #eeee00;\">1.0</td><td style=\"text-align: center; font-weight: normal;\">0.0</td><td style=\"text-align: center; font-weight: bold; background-color: #eeee00;\">1.0</td></tr><tr><td style='text-align: right;'>book</td><td style=\"text-align: center; font-weight: bold; background-color: #eeee00;\">1.0</td><td style=\"text-align: center; font-weight: bold; background-color: #eeee00;\">1.0</td><td style=\"text-align: center; font-weight: normal;\">0.0</td><td style=\"text-align: center; font-weight: bold; background-color: #eeee00;\">1.0</td><td style=\"text-align: center; font-weight: bold; background-color: #eeee00;\">1.0</td><td style=\"text-align: center; font-weight: normal;\">0.0</td><td style=\"text-align: center; font-weight: normal;\">0.0</td><td style=\"text-align: center; font-weight: normal;\">0.0</td></tr><tr><td style='text-align: right;'>fruit</td><td style=\"text-align: center; font-weight: normal;\">0.0</td><td style=\"text-align: center; font-weight: normal;\">0.0</td><td style=\"text-align: center; font-weight: normal;\">0.0</td><td style=\"text-align: center; font-weight: normal;\">0.0</td><td style=\"text-align: center; font-weight: normal;\">0.0</td><td style=\"text-align: center; font-weight: bold; background-color: #eeee00;\">1.0</td><td style=\"text-align: center; font-weight: bold; background-color: #eeee00;\">1.0</td><td style=\"text-align: center; font-weight: normal;\">0.0</td></tr><tr><td style='text-align: right;'>ibm</td><td style=\"text-align: center; font-weight: normal;\">0.0</td><td style=\"text-align: center; font-weight: normal;\">0.0</td><td style=\"text-align: center; font-weight: bold; background-color: #eeee00;\">1.0</td><td style=\"text-align: center; font-weight: normal;\">0.0</td><td style=\"text-align: center; font-weight: normal;\">0.0</td><td style=\"text-align: center; font-weight: normal;\">0.0</td><td style=\"text-align: center; font-weight: normal;\">0.0</td><td style=\"text-align: center; font-weight: normal;\">0.0</td></tr><tr><td style='text-align: right;'>ios</td><td style=\"text-align: center; font-weight: bold; background-color: #eeee00;\">1.0</td><td style=\"text-align: center; font-weight: normal;\">0.0</td><td style=\"text-align: center; font-weight: normal;\">0.0</td><td style=\"text-align: center; font-weight: normal;\">0.0</td><td style=\"text-align: center; font-weight: normal;\">0.0</td><td style=\"text-align: center; font-weight: normal;\">0.0</td><td style=\"text-align: center; font-weight: normal;\">0.0</td><td style=\"text-align: center; font-weight: normal;\">0.0</td></tr><tr><td style='text-align: right;'>mac</td><td style=\"text-align: center; font-weight: bold; background-color: #eeee00;\">1.0</td><td style=\"text-align: center; font-weight: bold; background-color: #eeee00;\">1.0</td><td style=\"text-align: center; font-weight: normal;\">0.0</td><td style=\"text-align: center; font-weight: normal;\">0.0</td><td style=\"text-align: center; font-weight: bold; background-color: #eeee00;\">1.0</td><td style=\"text-align: center; font-weight: normal;\">0.0</td><td style=\"text-align: center; font-weight: normal;\">0.0</td><td style=\"text-align: center; font-weight: normal;\">0.0</td></tr><tr><td style='text-align: right;'>mango</td><td style=\"text-align: center; font-weight: normal;\">0.0</td><td style=\"text-align: center; font-weight: normal;\">0.0</td><td style=\"text-align: center; font-weight: normal;\">0.0</td><td style=\"text-align: center; font-weight: normal;\">0.0</td><td style=\"text-align: center; font-weight: normal;\">0.0</td><td style=\"text-align: center; font-weight: bold; background-color: #eeee00;\">1.0</td><td style=\"text-align: center; font-weight: normal;\">0.0</td><td style=\"text-align: center; font-weight: normal;\">0.0</td></tr><tr><td style='text-align: right;'>microsoft</td><td style=\"text-align: center; font-weight: normal;\">0.0</td><td style=\"text-align: center; font-weight: normal;\">0.0</td><td style=\"text-align: center; font-weight: bold; background-color: #eeee00;\">1.0</td><td style=\"text-align: center; font-weight: bold; background-color: #eeee00;\">1.0</td><td style=\"text-align: center; font-weight: normal;\">0.0</td><td style=\"text-align: center; font-weight: normal;\">0.0</td><td style=\"text-align: center; font-weight: normal;\">0.0</td><td style=\"text-align: center; font-weight: normal;\">0.0</td></tr><tr><td style='text-align: right;'>oracle</td><td style=\"text-align: center; font-weight: normal;\">0.0</td><td style=\"text-align: center; font-weight: normal;\">0.0</td><td style=\"text-align: center; font-weight: bold; background-color: #eeee00;\">1.0</td><td style=\"text-align: center; font-weight: normal;\">0.0</td><td style=\"text-align: center; font-weight: normal;\">0.0</td><td style=\"text-align: center; font-weight: normal;\">0.0</td><td style=\"text-align: center; font-weight: normal;\">0.0</td><td style=\"text-align: center; font-weight: normal;\">0.0</td></tr><tr><td style='text-align: right;'>orange</td><td style=\"text-align: center; font-weight: normal;\">0.0</td><td style=\"text-align: center; font-weight: normal;\">0.0</td><td style=\"text-align: center; font-weight: normal;\">0.0</td><td style=\"text-align: center; font-weight: normal;\">0.0</td><td style=\"text-align: center; font-weight: normal;\">0.0</td><td style=\"text-align: center; font-weight: normal;\">0.0</td><td style=\"text-align: center; font-weight: normal;\">0.0</td><td style=\"text-align: center; font-weight: bold; background-color: #eeee00;\">1.0</td></tr><tr><td style='text-align: right;'>store</td><td style=\"text-align: center; font-weight: normal;\">0.0</td><td style=\"text-align: center; font-weight: bold; background-color: #eeee00;\">1.0</td><td style=\"text-align: center; font-weight: normal;\">0.0</td><td style=\"text-align: center; font-weight: bold; background-color: #eeee00;\">1.0</td><td style=\"text-align: center; font-weight: bold; background-color: #eeee00;\">1.0</td><td style=\"text-align: center; font-weight: normal;\">0.0</td><td style=\"text-align: center; font-weight: normal;\">0.0</td><td style=\"text-align: center; font-weight: normal;\">0.0</td></tr><tr><td style='text-align: right;'>strawberry</td><td style=\"text-align: center; font-weight: normal;\">0.0</td><td style=\"text-align: center; font-weight: normal;\">0.0</td><td style=\"text-align: center; font-weight: normal;\">0.0</td><td style=\"text-align: center; font-weight: normal;\">0.0</td><td style=\"text-align: center; font-weight: normal;\">0.0</td><td style=\"text-align: center; font-weight: normal;\">0.0</td><td style=\"text-align: center; font-weight: normal;\">0.0</td><td style=\"text-align: center; font-weight: bold; background-color: #eeee00;\">1.0</td></tr></table></td></tr></table>"
      ],
      "text/plain": [
       "<IPython.core.display.HTML object>"
      ]
     },
     "metadata": {},
     "output_type": "display_data"
    }
   ],
   "source": [
    "display(HTML(near_tables(data_to_table(dataset), to_table(tokens, T))))"
   ]
  },
  {
   "cell_type": "markdown",
   "metadata": {
    "collapsed": true,
    "deletable": true,
    "editable": true
   },
   "source": [
    "# SVD\n",
    "full_matrices : bool, optional\n",
    "If True (default), u and v have the shapes (M, M) and (N, N), respectively. Otherwise, the shapes are (M, K) and (K, N), respectively, where K = min(M, N). The v returned by this function is V.T and u = U."
   ]
  },
  {
   "cell_type": "code",
   "execution_count": 4,
   "metadata": {
    "collapsed": false,
    "deletable": true,
    "editable": true
   },
   "outputs": [
    {
     "name": "stdout",
     "output_type": "stream",
     "text": [
      "original shape (13, 8)\n",
      "U shape (13, 8)\n",
      "Sigma shape (8, 8)\n",
      "VT shape (8, 8)\n"
     ]
    }
   ],
   "source": [
    "U, s, VT = np.linalg.svd(T, full_matrices=False)\n",
    "Sigma = np.diag(s)\n",
    "print 'original shape', T.shape\n",
    "print 'U shape', U.shape\n",
    "print 'Sigma shape', Sigma.shape\n",
    "print 'VT shape', VT.shape"
   ]
  },
  {
   "cell_type": "markdown",
   "metadata": {
    "deletable": true,
    "editable": true
   },
   "source": [
    "The terms in the new space are represented by the row vectors of $U$ whereas the documents by the column vectors of\n",
    "$V^T$."
   ]
  },
  {
   "cell_type": "code",
   "execution_count": 5,
   "metadata": {
    "collapsed": false,
    "deletable": true,
    "editable": true
   },
   "outputs": [
    {
     "data": {
      "text/html": [
       "<style>table,td,tr,th {border:none!important} th {border-bottom:solid!important}</style><table><tr><td style='vertical-align: top;'><table><tr><th></th><th style=\"text-align: center;\">0</th><th style=\"text-align: center;\">1</th><th style=\"text-align: center;\">2</th><th style=\"text-align: center;\">3</th><th style=\"text-align: center;\">4</th><th style=\"text-align: center;\">5</th><th style=\"text-align: center;\">6</th><th style=\"text-align: center;\">7</th></tr><tr><td style='text-align: right;'>apple</td><td style=\"text-align: center; font-weight: normal;\">-0.722</td><td style=\"text-align: center; font-weight: normal;\">-0.394</td><td style=\"text-align: center; font-weight: normal;\">-0.055</td><td style=\"text-align: center; font-weight: normal;\">-0.194</td><td style=\"text-align: center; font-weight: normal;\">0.259</td><td style=\"text-align: center; font-weight: normal;\">-0.331</td><td style=\"text-align: center; font-weight: normal;\">0.13</td><td style=\"text-align: center; font-weight: normal;\">-0.299</td></tr><tr><td style='text-align: right;'>banana</td><td style=\"text-align: center; font-weight: normal;\">-0.142</td><td style=\"text-align: center; font-weight: normal;\">-0.392</td><td style=\"text-align: center; font-weight: normal;\">0.18</td><td style=\"text-align: center; font-weight: normal;\">0.381</td><td style=\"text-align: center; font-weight: normal;\">-0.227</td><td style=\"text-align: center; font-weight: normal;\">0.318</td><td style=\"text-align: center; font-weight: normal;\">-0.294</td><td style=\"text-align: center; font-weight: normal;\">-0.097</td></tr><tr><td style='text-align: right;'>book</td><td style=\"text-align: center; font-weight: normal;\">-0.413</td><td style=\"text-align: center; font-weight: normal;\">0.457</td><td style=\"text-align: center; font-weight: normal;\">0.079</td><td style=\"text-align: center; font-weight: normal;\">0.1</td><td style=\"text-align: center; font-weight: normal;\">-0.133</td><td style=\"text-align: center; font-weight: normal;\">0.28</td><td style=\"text-align: center; font-weight: normal;\">0.183</td><td style=\"text-align: center; font-weight: normal;\">-0.029</td></tr><tr><td style='text-align: right;'>fruit</td><td style=\"text-align: center; font-weight: normal;\">-0.132</td><td style=\"text-align: center; font-weight: normal;\">-0.323</td><td style=\"text-align: center; font-weight: normal;\">0.112</td><td style=\"text-align: center; font-weight: normal;\">-0.361</td><td style=\"text-align: center; font-weight: normal;\">-0.497</td><td style=\"text-align: center; font-weight: normal;\">0.045</td><td style=\"text-align: center; font-weight: normal;\">0.324</td><td style=\"text-align: center; font-weight: normal;\">0.618</td></tr><tr><td style='text-align: right;'>ibm</td><td style=\"text-align: center; font-weight: normal;\">-0.067</td><td style=\"text-align: center; font-weight: normal;\">-0.076</td><td style=\"text-align: center; font-weight: normal;\">-0.469</td><td style=\"text-align: center; font-weight: normal;\">-0.051</td><td style=\"text-align: center; font-weight: normal;\">0.129</td><td style=\"text-align: center; font-weight: normal;\">0.089</td><td style=\"text-align: center; font-weight: normal;\">-0.31</td><td style=\"text-align: center; font-weight: normal;\">0.261</td></tr><tr><td style='text-align: right;'>ios</td><td style=\"text-align: center; font-weight: normal;\">-0.11</td><td style=\"text-align: center; font-weight: normal;\">0.071</td><td style=\"text-align: center; font-weight: normal;\">0.11</td><td style=\"text-align: center; font-weight: normal;\">-0.16</td><td style=\"text-align: center; font-weight: normal;\">0.297</td><td style=\"text-align: center; font-weight: normal;\">0.632</td><td style=\"text-align: center; font-weight: normal;\">0.292</td><td style=\"text-align: center; font-weight: normal;\">-0.06</td></tr><tr><td style='text-align: right;'>mac</td><td style=\"text-align: center; font-weight: normal;\">-0.356</td><td style=\"text-align: center; font-weight: normal;\">0.312</td><td style=\"text-align: center; font-weight: normal;\">0.249</td><td style=\"text-align: center; font-weight: normal;\">-0.126</td><td style=\"text-align: center; font-weight: normal;\">0.23</td><td style=\"text-align: center; font-weight: normal;\">0.118</td><td style=\"text-align: center; font-weight: normal;\">-0.425</td><td style=\"text-align: center; font-weight: normal;\">0.368</td></tr><tr><td style='text-align: right;'>mango</td><td style=\"text-align: center; font-weight: normal;\">-0.073</td><td style=\"text-align: center; font-weight: normal;\">-0.209</td><td style=\"text-align: center; font-weight: normal;\">0.096</td><td style=\"text-align: center; font-weight: normal;\">-0.127</td><td style=\"text-align: center; font-weight: normal;\">-0.389</td><td style=\"text-align: center; font-weight: normal;\">0.303</td><td style=\"text-align: center; font-weight: normal;\">-0.413</td><td style=\"text-align: center; font-weight: normal;\">-0.334</td></tr><tr><td style='text-align: right;'>microsoft</td><td style=\"text-align: center; font-weight: normal;\">-0.125</td><td style=\"text-align: center; font-weight: normal;\">0.069</td><td style=\"text-align: center; font-weight: normal;\">-0.639</td><td style=\"text-align: center; font-weight: normal;\">0.175</td><td style=\"text-align: center; font-weight: normal;\">-0.233</td><td style=\"text-align: center; font-weight: normal;\">0.251</td><td style=\"text-align: center; font-weight: normal;\">0.299</td><td style=\"text-align: center; font-weight: normal;\">-0.136</td></tr><tr><td style='text-align: right;'>oracle</td><td style=\"text-align: center; font-weight: normal;\">-0.067</td><td style=\"text-align: center; font-weight: normal;\">-0.076</td><td style=\"text-align: center; font-weight: normal;\">-0.469</td><td style=\"text-align: center; font-weight: normal;\">-0.051</td><td style=\"text-align: center; font-weight: normal;\">0.129</td><td style=\"text-align: center; font-weight: normal;\">0.089</td><td style=\"text-align: center; font-weight: normal;\">-0.31</td><td style=\"text-align: center; font-weight: normal;\">0.261</td></tr><tr><td style='text-align: right;'>orange</td><td style=\"text-align: center; font-weight: normal;\">-0.069</td><td style=\"text-align: center; font-weight: normal;\">-0.183</td><td style=\"text-align: center; font-weight: normal;\">0.085</td><td style=\"text-align: center; font-weight: normal;\">0.508</td><td style=\"text-align: center; font-weight: normal;\">0.161</td><td style=\"text-align: center; font-weight: normal;\">0.015</td><td style=\"text-align: center; font-weight: normal;\">0.119</td><td style=\"text-align: center; font-weight: normal;\">0.238</td></tr><tr><td style='text-align: right;'>store</td><td style=\"text-align: center; font-weight: normal;\">-0.304</td><td style=\"text-align: center; font-weight: normal;\">0.386</td><td style=\"text-align: center; font-weight: normal;\">-0.031</td><td style=\"text-align: center; font-weight: normal;\">0.26</td><td style=\"text-align: center; font-weight: normal;\">-0.43</td><td style=\"text-align: center; font-weight: normal;\">-0.352</td><td style=\"text-align: center; font-weight: normal;\">-0.108</td><td style=\"text-align: center; font-weight: normal;\">0.032</td></tr><tr><td style='text-align: right;'>strawberry</td><td style=\"text-align: center; font-weight: normal;\">-0.069</td><td style=\"text-align: center; font-weight: normal;\">-0.183</td><td style=\"text-align: center; font-weight: normal;\">0.085</td><td style=\"text-align: center; font-weight: normal;\">0.508</td><td style=\"text-align: center; font-weight: normal;\">0.161</td><td style=\"text-align: center; font-weight: normal;\">0.015</td><td style=\"text-align: center; font-weight: normal;\">0.119</td><td style=\"text-align: center; font-weight: normal;\">0.238</td></tr></table></td><td style='vertical-align: top;'><table><tr><th></th><th style=\"text-align: center;\">0</th><th style=\"text-align: center;\">1</th><th style=\"text-align: center;\">2</th><th style=\"text-align: center;\">3</th><th style=\"text-align: center;\">4</th><th style=\"text-align: center;\">5</th><th style=\"text-align: center;\">6</th><th style=\"text-align: center;\">7</th></tr><tr><td style='text-align: right;'>0</td><td style=\"text-align: center; font-weight: normal;\">-0.419</td><td style=\"text-align: center; font-weight: normal;\">0.177</td><td style=\"text-align: center; font-weight: normal;\">0.205</td><td style=\"text-align: center; font-weight: normal;\">-0.247</td><td style=\"text-align: center; font-weight: normal;\">0.441</td><td style=\"text-align: center; font-weight: normal;\">0.665</td><td style=\"text-align: center; font-weight: normal;\">0.229</td><td style=\"text-align: center; font-weight: normal;\">-0.035</td></tr><tr><td style='text-align: right;'>1</td><td style=\"text-align: center; font-weight: normal;\">-0.659</td><td style=\"text-align: center; font-weight: normal;\">0.146</td><td style=\"text-align: center; font-weight: normal;\">0.1</td><td style=\"text-align: center; font-weight: normal;\">-0.099</td><td style=\"text-align: center; font-weight: normal;\">0.125</td><td style=\"text-align: center; font-weight: normal;\">-0.585</td><td style=\"text-align: center; font-weight: normal;\">-0.116</td><td style=\"text-align: center; font-weight: normal;\">-0.392</td></tr><tr><td style='text-align: right;'>2</td><td style=\"text-align: center; font-weight: normal;\">-0.257</td><td style=\"text-align: center; font-weight: normal;\">-0.19</td><td style=\"text-align: center; font-weight: normal;\">-0.875</td><td style=\"text-align: center; font-weight: normal;\">-0.079</td><td style=\"text-align: center; font-weight: normal;\">0.191</td><td style=\"text-align: center; font-weight: normal;\">0.094</td><td style=\"text-align: center; font-weight: normal;\">-0.243</td><td style=\"text-align: center; font-weight: normal;\">0.151</td></tr><tr><td style='text-align: right;'>3</td><td style=\"text-align: center; font-weight: normal;\">-0.22</td><td style=\"text-align: center; font-weight: normal;\">0.363</td><td style=\"text-align: center; font-weight: normal;\">-0.317</td><td style=\"text-align: center; font-weight: normal;\">0.348</td><td style=\"text-align: center; font-weight: normal;\">-0.537</td><td style=\"text-align: center; font-weight: normal;\">0.171</td><td style=\"text-align: center; font-weight: normal;\">0.477</td><td style=\"text-align: center; font-weight: normal;\">-0.23</td></tr><tr><td style='text-align: right;'>4</td><td style=\"text-align: center; font-weight: normal;\">-0.281</td><td style=\"text-align: center; font-weight: normal;\">0.46</td><td style=\"text-align: center; font-weight: normal;\">0.159</td><td style=\"text-align: center; font-weight: normal;\">0.152</td><td style=\"text-align: center; font-weight: normal;\">-0.225</td><td style=\"text-align: center; font-weight: normal;\">0.044</td><td style=\"text-align: center; font-weight: normal;\">-0.446</td><td style=\"text-align: center; font-weight: normal;\">0.64</td></tr><tr><td style='text-align: right;'>5</td><td style=\"text-align: center; font-weight: normal;\">-0.28</td><td style=\"text-align: center; font-weight: normal;\">-0.525</td><td style=\"text-align: center; font-weight: normal;\">0.179</td><td style=\"text-align: center; font-weight: normal;\">-0.195</td><td style=\"text-align: center; font-weight: normal;\">-0.576</td><td style=\"text-align: center; font-weight: normal;\">0.319</td><td style=\"text-align: center; font-weight: normal;\">-0.324</td><td style=\"text-align: center; font-weight: normal;\">-0.194</td></tr><tr><td style='text-align: right;'>6</td><td style=\"text-align: center; font-weight: normal;\">-0.224</td><td style=\"text-align: center; font-weight: normal;\">-0.286</td><td style=\"text-align: center; font-weight: normal;\">0.031</td><td style=\"text-align: center; font-weight: normal;\">-0.36</td><td style=\"text-align: center; font-weight: normal;\">-0.161</td><td style=\"text-align: center; font-weight: normal;\">-0.271</td><td style=\"text-align: center; font-weight: normal;\">0.578</td><td style=\"text-align: center; font-weight: normal;\">0.551</td></tr><tr><td style='text-align: right;'>7</td><td style=\"text-align: center; font-weight: normal;\">-0.262</td><td style=\"text-align: center; font-weight: normal;\">-0.459</td><td style=\"text-align: center; font-weight: normal;\">0.158</td><td style=\"text-align: center; font-weight: normal;\">0.782</td><td style=\"text-align: center; font-weight: normal;\">0.239</td><td style=\"text-align: center; font-weight: normal;\">0.015</td><td style=\"text-align: center; font-weight: normal;\">0.093</td><td style=\"text-align: center; font-weight: normal;\">0.138</td></tr></table></td></tr></table>"
      ],
      "text/plain": [
       "<IPython.core.display.HTML object>"
      ]
     },
     "metadata": {},
     "output_type": "display_data"
    }
   ],
   "source": [
    "t1, t2 = to_table(tokens, U, bold_th=10), to_table([str(i) for i in range(0, len(dataset))], VT.T, bold_th=10)\n",
    "display(HTML(near_tables(t1, t2)))"
   ]
  },
  {
   "cell_type": "markdown",
   "metadata": {
    "deletable": true,
    "editable": true
   },
   "source": [
    "## Select dimensions"
   ]
  },
  {
   "cell_type": "code",
   "execution_count": 6,
   "metadata": {
    "collapsed": false,
    "deletable": true,
    "editable": true
   },
   "outputs": [
    {
     "data": {
      "image/png": "[encoded data removed]",
      "text/plain": [
       "<matplotlib.figure.Figure at 0x7ff5f82cd910>"
      ]
     },
     "metadata": {},
     "output_type": "display_data"
    }
   ],
   "source": [
    "from matplotlib import pyplot as plt\n",
    "\n",
    "fig, axes = plt.subplots(nrows=1, ncols=1, figsize=(14, 3))\n",
    "axes.bar(range(0, len(s)), s)\n",
    "plt.show()"
   ]
  },
  {
   "cell_type": "code",
   "execution_count": 7,
   "metadata": {
    "collapsed": false,
    "deletable": true,
    "editable": true
   },
   "outputs": [],
   "source": [
    "K = 2\n",
    "sk = s[:K]\n",
    "Uk = U[:,:K]\n",
    "VTk = VT.T[:,:K].T\n",
    "Tred = np.dot(np.dot(Uk, np.diag(sk)), VTk)"
   ]
  },
  {
   "cell_type": "code",
   "execution_count": 8,
   "metadata": {
    "collapsed": false,
    "deletable": true,
    "editable": true
   },
   "outputs": [
    {
     "data": {
      "text/html": [
       "<style>table,td,tr,th {border:none!important} th {border-bottom:solid!important}</style><table><tr><td style='vertical-align: top;'><style>table,td,tr,th {border:none!important} th {border-bottom:solid!important}</style><table><tr><td style='vertical-align: top;'><table><tr><th></th><th style=\"text-align: center;\">0</th><th style=\"text-align: center;\">1</th></tr><tr><td style='text-align: right;'>apple</td><td style=\"text-align: center; font-weight: normal;\">-0.722</td><td style=\"text-align: center; font-weight: normal;\">-0.394</td></tr><tr><td style='text-align: right;'>banana</td><td style=\"text-align: center; font-weight: normal;\">-0.142</td><td style=\"text-align: center; font-weight: normal;\">-0.392</td></tr><tr><td style='text-align: right;'>book</td><td style=\"text-align: center; font-weight: normal;\">-0.413</td><td style=\"text-align: center; font-weight: normal;\">0.457</td></tr><tr><td style='text-align: right;'>fruit</td><td style=\"text-align: center; font-weight: normal;\">-0.132</td><td style=\"text-align: center; font-weight: normal;\">-0.323</td></tr><tr><td style='text-align: right;'>ibm</td><td style=\"text-align: center; font-weight: normal;\">-0.067</td><td style=\"text-align: center; font-weight: normal;\">-0.076</td></tr><tr><td style='text-align: right;'>ios</td><td style=\"text-align: center; font-weight: normal;\">-0.11</td><td style=\"text-align: center; font-weight: normal;\">0.071</td></tr><tr><td style='text-align: right;'>mac</td><td style=\"text-align: center; font-weight: normal;\">-0.356</td><td style=\"text-align: center; font-weight: normal;\">0.312</td></tr><tr><td style='text-align: right;'>mango</td><td style=\"text-align: center; font-weight: normal;\">-0.073</td><td style=\"text-align: center; font-weight: normal;\">-0.209</td></tr><tr><td style='text-align: right;'>microsoft</td><td style=\"text-align: center; font-weight: normal;\">-0.125</td><td style=\"text-align: center; font-weight: normal;\">0.069</td></tr><tr><td style='text-align: right;'>oracle</td><td style=\"text-align: center; font-weight: normal;\">-0.067</td><td style=\"text-align: center; font-weight: normal;\">-0.076</td></tr><tr><td style='text-align: right;'>orange</td><td style=\"text-align: center; font-weight: normal;\">-0.069</td><td style=\"text-align: center; font-weight: normal;\">-0.183</td></tr><tr><td style='text-align: right;'>store</td><td style=\"text-align: center; font-weight: normal;\">-0.304</td><td style=\"text-align: center; font-weight: normal;\">0.386</td></tr><tr><td style='text-align: right;'>strawberry</td><td style=\"text-align: center; font-weight: normal;\">-0.069</td><td style=\"text-align: center; font-weight: normal;\">-0.183</td></tr></table></td><td style='vertical-align: top;'><table><tr><th></th><th style=\"text-align: center;\">0</th><th style=\"text-align: center;\">1</th></tr><tr><td style='text-align: right;'>0</td><td style=\"text-align: center; font-weight: normal;\">-0.419</td><td style=\"text-align: center; font-weight: normal;\">0.177</td></tr><tr><td style='text-align: right;'>1</td><td style=\"text-align: center; font-weight: normal;\">-0.659</td><td style=\"text-align: center; font-weight: normal;\">0.146</td></tr><tr><td style='text-align: right;'>2</td><td style=\"text-align: center; font-weight: normal;\">-0.257</td><td style=\"text-align: center; font-weight: normal;\">-0.19</td></tr><tr><td style='text-align: right;'>3</td><td style=\"text-align: center; font-weight: normal;\">-0.22</td><td style=\"text-align: center; font-weight: normal;\">0.363</td></tr><tr><td style='text-align: right;'>4</td><td style=\"text-align: center; font-weight: normal;\">-0.281</td><td style=\"text-align: center; font-weight: normal;\">0.46</td></tr><tr><td style='text-align: right;'>5</td><td style=\"text-align: center; font-weight: normal;\">-0.28</td><td style=\"text-align: center; font-weight: normal;\">-0.525</td></tr><tr><td style='text-align: right;'>6</td><td style=\"text-align: center; font-weight: normal;\">-0.224</td><td style=\"text-align: center; font-weight: normal;\">-0.286</td></tr><tr><td style='text-align: right;'>7</td><td style=\"text-align: center; font-weight: normal;\">-0.262</td><td style=\"text-align: center; font-weight: normal;\">-0.459</td></tr></table></td></tr></table></td><td style='vertical-align: top;'><table><tr><th></th><th style=\"text-align: center;\">0</th><th style=\"text-align: center;\">1</th><th style=\"text-align: center;\">2</th><th style=\"text-align: center;\">3</th><th style=\"text-align: center;\">4</th><th style=\"text-align: center;\">5</th><th style=\"text-align: center;\">6</th><th style=\"text-align: center;\">7</th></tr><tr><td style='text-align: right;'>apple</td><td style=\"text-align: center; font-weight: normal;\">0.981</td><td style=\"text-align: center; font-weight: normal;\">1.673</td><td style=\"text-align: center; font-weight: normal;\">0.897</td><td style=\"text-align: center; font-weight: normal;\">0.248</td><td style=\"text-align: center; font-weight: normal;\">0.319</td><td style=\"text-align: center; font-weight: normal;\">1.292</td><td style=\"text-align: center; font-weight: normal;\">0.899</td><td style=\"text-align: center; font-weight: normal;\">1.177</td></tr><tr><td style='text-align: right;'>banana</td><td style=\"text-align: center; font-weight: normal;\">0.053</td><td style=\"text-align: center; font-weight: normal;\">0.213</td><td style=\"text-align: center; font-weight: normal;\">0.326</td><td style=\"text-align: center; font-weight: normal;\">-0.238</td><td style=\"text-align: center; font-weight: normal;\">-0.3</td><td style=\"text-align: center; font-weight: normal;\">0.668</td><td style=\"text-align: center; font-weight: normal;\">0.402</td><td style=\"text-align: center; font-weight: normal;\">0.593</td></tr><tr><td style='text-align: right;'>book</td><td style=\"text-align: center; font-weight: normal;\">0.865</td><td style=\"text-align: center; font-weight: normal;\">1.208</td><td style=\"text-align: center; font-weight: normal;\">0.188</td><td style=\"text-align: center; font-weight: normal;\">0.765</td><td style=\"text-align: center; font-weight: normal;\">0.971</td><td style=\"text-align: center; font-weight: normal;\">-0.16</td><td style=\"text-align: center; font-weight: normal;\">0.025</td><td style=\"text-align: center; font-weight: normal;\">-0.112</td></tr><tr><td style='text-align: right;'>fruit</td><td style=\"text-align: center; font-weight: normal;\">0.067</td><td style=\"text-align: center; font-weight: normal;\">0.213</td><td style=\"text-align: center; font-weight: normal;\">0.283</td><td style=\"text-align: center; font-weight: normal;\">-0.184</td><td style=\"text-align: center; font-weight: normal;\">-0.232</td><td style=\"text-align: center; font-weight: normal;\">0.567</td><td style=\"text-align: center; font-weight: normal;\">0.344</td><td style=\"text-align: center; font-weight: normal;\">0.504</td></tr><tr><td style='text-align: right;'>ibm</td><td style=\"text-align: center; font-weight: normal;\">0.074</td><td style=\"text-align: center; font-weight: normal;\">0.142</td><td style=\"text-align: center; font-weight: normal;\">0.102</td><td style=\"text-align: center; font-weight: normal;\">-0.012</td><td style=\"text-align: center; font-weight: normal;\">-0.015</td><td style=\"text-align: center; font-weight: normal;\">0.171</td><td style=\"text-align: center; font-weight: normal;\">0.112</td><td style=\"text-align: center; font-weight: normal;\">0.154</td></tr><tr><td style='text-align: right;'>ios</td><td style=\"text-align: center; font-weight: normal;\">0.207</td><td style=\"text-align: center; font-weight: normal;\">0.302</td><td style=\"text-align: center; font-weight: normal;\">0.074</td><td style=\"text-align: center; font-weight: normal;\">0.157</td><td style=\"text-align: center; font-weight: normal;\">0.199</td><td style=\"text-align: center; font-weight: normal;\">0.024</td><td style=\"text-align: center; font-weight: normal;\">0.043</td><td style=\"text-align: center; font-weight: normal;\">0.028</td></tr><tr><td style='text-align: right;'>mac</td><td style=\"text-align: center; font-weight: normal;\">0.708</td><td style=\"text-align: center; font-weight: normal;\">1.009</td><td style=\"text-align: center; font-weight: normal;\">0.201</td><td style=\"text-align: center; font-weight: normal;\">0.584</td><td style=\"text-align: center; font-weight: normal;\">0.742</td><td style=\"text-align: center; font-weight: normal;\">-0.031</td><td style=\"text-align: center; font-weight: normal;\">0.08</td><td style=\"text-align: center; font-weight: normal;\">-0.003</td></tr><tr><td style='text-align: right;'>mango</td><td style=\"text-align: center; font-weight: normal;\">0.024</td><td style=\"text-align: center; font-weight: normal;\">0.108</td><td style=\"text-align: center; font-weight: normal;\">0.171</td><td style=\"text-align: center; font-weight: normal;\">-0.129</td><td style=\"text-align: center; font-weight: normal;\">-0.163</td><td style=\"text-align: center; font-weight: normal;\">0.354</td><td style=\"text-align: center; font-weight: normal;\">0.213</td><td style=\"text-align: center; font-weight: normal;\">0.314</td></tr><tr><td style='text-align: right;'>microsoft</td><td style=\"text-align: center; font-weight: normal;\">0.231</td><td style=\"text-align: center; font-weight: normal;\">0.34</td><td style=\"text-align: center; font-weight: normal;\">0.09</td><td style=\"text-align: center; font-weight: normal;\">0.168</td><td style=\"text-align: center; font-weight: normal;\">0.214</td><td style=\"text-align: center; font-weight: normal;\">0.042</td><td style=\"text-align: center; font-weight: normal;\">0.057</td><td style=\"text-align: center; font-weight: normal;\">0.045</td></tr><tr><td style='text-align: right;'>oracle</td><td style=\"text-align: center; font-weight: normal;\">0.074</td><td style=\"text-align: center; font-weight: normal;\">0.142</td><td style=\"text-align: center; font-weight: normal;\">0.102</td><td style=\"text-align: center; font-weight: normal;\">-0.012</td><td style=\"text-align: center; font-weight: normal;\">-0.015</td><td style=\"text-align: center; font-weight: normal;\">0.171</td><td style=\"text-align: center; font-weight: normal;\">0.112</td><td style=\"text-align: center; font-weight: normal;\">0.154</td></tr><tr><td style='text-align: right;'>orange</td><td style=\"text-align: center; font-weight: normal;\">0.028</td><td style=\"text-align: center; font-weight: normal;\">0.106</td><td style=\"text-align: center; font-weight: normal;\">0.154</td><td style=\"text-align: center; font-weight: normal;\">-0.109</td><td style=\"text-align: center; font-weight: normal;\">-0.137</td><td style=\"text-align: center; font-weight: normal;\">0.314</td><td style=\"text-align: center; font-weight: normal;\">0.19</td><td style=\"text-align: center; font-weight: normal;\">0.279</td></tr><tr><td style='text-align: right;'>store</td><td style=\"text-align: center; font-weight: normal;\">0.658</td><td style=\"text-align: center; font-weight: normal;\">0.906</td><td style=\"text-align: center; font-weight: normal;\">0.114</td><td style=\"text-align: center; font-weight: normal;\">0.608</td><td style=\"text-align: center; font-weight: normal;\">0.772</td><td style=\"text-align: center; font-weight: normal;\">-0.184</td><td style=\"text-align: center; font-weight: normal;\">-0.018</td><td style=\"text-align: center; font-weight: normal;\">-0.141</td></tr><tr><td style='text-align: right;'>strawberry</td><td style=\"text-align: center; font-weight: normal;\">0.028</td><td style=\"text-align: center; font-weight: normal;\">0.106</td><td style=\"text-align: center; font-weight: normal;\">0.154</td><td style=\"text-align: center; font-weight: normal;\">-0.109</td><td style=\"text-align: center; font-weight: normal;\">-0.137</td><td style=\"text-align: center; font-weight: normal;\">0.314</td><td style=\"text-align: center; font-weight: normal;\">0.19</td><td style=\"text-align: center; font-weight: normal;\">0.279</td></tr></table></td></tr></table>"
      ],
      "text/plain": [
       "<IPython.core.display.HTML object>"
      ]
     },
     "metadata": {},
     "output_type": "display_data"
    }
   ],
   "source": [
    "tk1, tk2 = to_table(tokens, Uk, bold_th=10), to_table([str(i) for i in range(0, len(dataset))], VTk.T, bold_th=10)\n",
    "display(HTML(near_tables(near_tables(tk1, tk2), to_table(tokens, Tred, bold_th=10))))"
   ]
  },
  {
   "cell_type": "markdown",
   "metadata": {
    "deletable": true,
    "editable": true
   },
   "source": [
    "## Getting term vectors"
   ]
  },
  {
   "cell_type": "code",
   "execution_count": 9,
   "metadata": {
    "collapsed": false,
    "deletable": true,
    "editable": true
   },
   "outputs": [
    {
     "data": {
      "text/html": [
       "<style>table,td,tr,th {border:none!important} th {border-bottom:solid!important}</style><table><tr><td style='vertical-align: top;'><table><tr><th></th><th style=\"text-align: center;\">0</th><th style=\"text-align: center;\">1</th></tr><tr><td style='text-align: right;'>apple</td><td style=\"text-align: center; font-weight: normal;\">-2.759</td><td style=\"text-align: center; font-weight: normal;\">-0.99</td></tr><tr><td style='text-align: right;'>banana</td><td style=\"text-align: center; font-weight: normal;\">-0.542</td><td style=\"text-align: center; font-weight: normal;\">-0.984</td></tr><tr><td style='text-align: right;'>book</td><td style=\"text-align: center; font-weight: normal;\">-1.579</td><td style=\"text-align: center; font-weight: normal;\">1.147</td></tr><tr><td style='text-align: right;'>fruit</td><td style=\"text-align: center; font-weight: normal;\">-0.503</td><td style=\"text-align: center; font-weight: normal;\">-0.811</td></tr><tr><td style='text-align: right;'>ibm</td><td style=\"text-align: center; font-weight: normal;\">-0.257</td><td style=\"text-align: center; font-weight: normal;\">-0.19</td></tr><tr><td style='text-align: right;'>ios</td><td style=\"text-align: center; font-weight: normal;\">-0.419</td><td style=\"text-align: center; font-weight: normal;\">0.177</td></tr><tr><td style='text-align: right;'>mac</td><td style=\"text-align: center; font-weight: normal;\">-1.359</td><td style=\"text-align: center; font-weight: normal;\">0.783</td></tr><tr><td style='text-align: right;'>mango</td><td style=\"text-align: center; font-weight: normal;\">-0.28</td><td style=\"text-align: center; font-weight: normal;\">-0.525</td></tr><tr><td style='text-align: right;'>microsoft</td><td style=\"text-align: center; font-weight: normal;\">-0.477</td><td style=\"text-align: center; font-weight: normal;\">0.174</td></tr><tr><td style='text-align: right;'>oracle</td><td style=\"text-align: center; font-weight: normal;\">-0.257</td><td style=\"text-align: center; font-weight: normal;\">-0.19</td></tr><tr><td style='text-align: right;'>orange</td><td style=\"text-align: center; font-weight: normal;\">-0.262</td><td style=\"text-align: center; font-weight: normal;\">-0.459</td></tr><tr><td style='text-align: right;'>store</td><td style=\"text-align: center; font-weight: normal;\">-1.16</td><td style=\"text-align: center; font-weight: normal;\">0.969</td></tr><tr><td style='text-align: right;'>strawberry</td><td style=\"text-align: center; font-weight: normal;\">-0.262</td><td style=\"text-align: center; font-weight: normal;\">-0.459</td></tr></table></td><td style='vertical-align: top;'><table><tr><th></th><th style=\"text-align: center;\">0</th><th style=\"text-align: center;\">1</th></tr><tr><td style='text-align: right;'>0</td><td style=\"text-align: center; font-weight: normal;\">-1.601</td><td style=\"text-align: center; font-weight: normal;\">0.445</td></tr><tr><td style='text-align: right;'>1</td><td style=\"text-align: center; font-weight: normal;\">-2.517</td><td style=\"text-align: center; font-weight: normal;\">0.367</td></tr><tr><td style='text-align: right;'>2</td><td style=\"text-align: center; font-weight: normal;\">-0.982</td><td style=\"text-align: center; font-weight: normal;\">-0.476</td></tr><tr><td style='text-align: right;'>3</td><td style=\"text-align: center; font-weight: normal;\">-0.842</td><td style=\"text-align: center; font-weight: normal;\">0.912</td></tr><tr><td style='text-align: right;'>4</td><td style=\"text-align: center; font-weight: normal;\">-1.073</td><td style=\"text-align: center; font-weight: normal;\">1.155</td></tr><tr><td style='text-align: right;'>5</td><td style=\"text-align: center; font-weight: normal;\">-1.069</td><td style=\"text-align: center; font-weight: normal;\">-1.318</td></tr><tr><td style='text-align: right;'>6</td><td style=\"text-align: center; font-weight: normal;\">-0.854</td><td style=\"text-align: center; font-weight: normal;\">-0.717</td></tr><tr><td style='text-align: right;'>7</td><td style=\"text-align: center; font-weight: normal;\">-1.001</td><td style=\"text-align: center; font-weight: normal;\">-1.151</td></tr></table></td></tr></table>"
      ],
      "text/plain": [
       "<IPython.core.display.HTML object>"
      ]
     },
     "metadata": {},
     "output_type": "display_data"
    }
   ],
   "source": [
    "Terms = np.dot(Uk, np.diag(sk))\n",
    "Docs = np.dot(np.diag(sk), VTk)\n",
    "\n",
    "tk3, tk4 = to_table(tokens, Terms, bold_th=10), to_table([str(i) for i in range(0, len(dataset))], Docs.T, bold_th=10)\n",
    "display(HTML(near_tables(tk3, tk4)))"
   ]
  },
  {
   "cell_type": "code",
   "execution_count": 10,
   "metadata": {
    "collapsed": false,
    "deletable": true,
    "editable": true
   },
   "outputs": [
    {
     "data": {
      "image/png": "[encoded data removed]",
      "text/plain": [
       "<matplotlib.figure.Figure at 0x7ff5cd5ae790>"
      ]
     },
     "metadata": {},
     "output_type": "display_data"
    }
   ],
   "source": [
    "if K == 2:\n",
    "    fig, axes = plt.subplots(nrows=1, ncols=3, figsize=(16, 4))\n",
    "    axes[0].scatter(Terms[:,0], Terms[:,1])\n",
    "    a0l = (min(min(Terms[:,0])-0.1, min(Terms[:,1])-0.1), max(max(Terms[:,0])+0.1, max(Terms[:,1])+0.1))\n",
    "    axes[0].set_title('Terms')\n",
    "    axes[0].set_ylim(a0l)\n",
    "    axes[0].set_xlim(a0l)\n",
    "    axes[1].scatter(Tred[:,0], Tred[:,1])\n",
    "    a1l = (min(min(Tred[:,0])-0.1, min(Tred[:,1])-0.1), max(max(Tred[:,0])+0.1, max(Tred[:,1])+0.1))\n",
    "    axes[1].set_title('Terms/Documents')\n",
    "    axes[1].set_ylim(a1l)\n",
    "    axes[1].set_xlim(a1l)\n",
    "    axes[2].scatter(Docs.T[:,0], Docs.T[:,1])\n",
    "    axes[2].set_title('Documents')\n",
    "    a2l = (min(min(Docs.T[:,0])-0.1, min(Docs.T[:,1])-0.1), max(max(Docs.T[:,0])+0.1, max(Docs.T[:,1])+0.1))\n",
    "    axes[2].set_ylim(a2l)\n",
    "    axes[2].set_xlim(a2l)\n",
    "    plt.show()"
   ]
  },
  {
   "cell_type": "markdown",
   "metadata": {
    "deletable": true,
    "editable": true
   },
   "source": [
    "## Query"
   ]
  },
  {
   "cell_type": "code",
   "execution_count": 13,
   "metadata": {
    "collapsed": false,
    "deletable": true,
    "editable": true
   },
   "outputs": [
    {
     "name": "stdout",
     "output_type": "stream",
     "text": [
      "(['apple', 'banana', 'mango', 'fruit'], 0.9816682432962438)\n",
      "(['banana', 'apple', 'orange', 'strawberry'], 0.97455353816139934)\n",
      "(['apple', 'fruit'], 0.92769917415430081)\n",
      "(['microsoft', 'ibm', 'apple', 'oracle'], 0.80831047559195024)\n",
      "(['apple', 'mac', 'book', 'apple', 'store'], 0.33826479540796273)\n",
      "(['apple', 'ios', 'mac', 'book'], 0.2166556920187207)\n",
      "(['mac', 'book', 'store'], -0.32659187204148044)\n",
      "(['microsoft', 'book', 'store'], -0.32944615132791344)\n"
     ]
    }
   ],
   "source": [
    "from scipy.spatial.distance import cosine\n",
    "\n",
    "q = ['mango']\n",
    "qv = np.array([Terms[tokens.index(x)] for x in q])\n",
    "qs = np.mean(qv, axis=0)\n",
    "answers = []\n",
    "for i, d in enumerate(Docs.T):\n",
    "    sim = 1-cosine(qs, d)\n",
    "    answers.append((dataset[i], sim))\n",
    "for a in sorted(answers, key=lambda x: -x[1]):\n",
    "    print a"
   ]
  },
  {
   "cell_type": "code",
   "execution_count": null,
   "metadata": {
    "collapsed": true,
    "deletable": true,
    "editable": true
   },
   "outputs": [],
   "source": []
  }
 ],
 "metadata": {
  "kernelspec": {
   "display_name": "Python 2",
   "language": "python",
   "name": "python2"
  },
  "language_info": {
   "codemirror_mode": {
    "name": "ipython",
    "version": 2
   },
   "file_extension": ".py",
   "mimetype": "text/x-python",
   "name": "python",
   "nbconvert_exporter": "python",
   "pygments_lexer": "ipython2",
   "version": "2.7.12"
  }
 },
 "nbformat": 4,
 "nbformat_minor": 2
}
