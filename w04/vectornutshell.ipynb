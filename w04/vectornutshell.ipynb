{
 "cells": [
  {
   "cell_type": "markdown",
   "metadata": {
    "deletable": true,
    "editable": true
   },
   "source": [
    "# The Vector Space Model in a Nutshell\n",
    "This tutorial presents some basics about the Vector Space Model by means of a very simple toy example. "
   ]
  },
  {
   "cell_type": "markdown",
   "metadata": {
    "deletable": true,
    "editable": true
   },
   "source": [
    "## Documents\n",
    "\n",
    "|Doc|Title|Text|Length|\n",
    "|---------------|\n",
    "|d689|Love Henry|Get down, get down, Love Henry, ...|112|\n",
    "|d671|Bob Dylan's Blues|Unlike most of the songs nowaday...|99|\n",
    "|d1003|Living The Blues|Since you've been gone...|48|\n",
    "|d858|Train Of Love|Train of love's a comin', big black wheels are...|118|\n",
    "|d717|Slow Train Coming|Sometimes I feel so low-down...|2091|\n",
    "\n"
   ]
  },
  {
   "cell_type": "markdown",
   "metadata": {
    "deletable": true,
    "editable": true
   },
   "source": [
    "## Document-word matrix\n",
    "\n",
    "|    |blues|living|love|henry|train|girl|\n",
    "|-----|:---:|:----:|:--:|:----:|:----:|:---:|\n",
    "|d671 |0    |0     |2   |0     |0     |0   |\n",
    "|d689 |0    |0     |5   |3     |0     |3   |\n",
    "|d717 |0    |0     |2   |0     |7     |1   |\n",
    "|d858 |0    |0     |4   |0     |6     |0   |\n",
    "|d1003|3    |3     |0   |0     |0     |0   |\n"
   ]
  },
  {
   "cell_type": "code",
   "execution_count": 1,
   "metadata": {
    "collapsed": false,
    "deletable": true,
    "editable": true
   },
   "outputs": [],
   "source": [
    "import numpy as np\n",
    "\n",
    "docs_len = [('d671', 99), ('d689', 112), ('d717', 2091), ('d858', 118), ('d1003', 48)]\n",
    "docs = [x[0] for x in docs_len]\n",
    "words = ['blues', 'living', 'love', 'henry', 'train', 'girl']\n",
    "M = np.array([[0,0,2,0,0,0],\n",
    "     [0,0,5,3,0,3],\n",
    "     [0,0,2,0,7,1],\n",
    "     [0,0,4,0,6,0],\n",
    "     [3,3,0,0,0,0]])\n"
   ]
  },
  {
   "cell_type": "code",
   "execution_count": 2,
   "metadata": {
    "collapsed": false,
    "deletable": true,
    "editable": true
   },
   "outputs": [],
   "source": [
    "def weight(matrix, method=None, k=0.5):\n",
    "    transformed = []\n",
    "    for i in range(0, len(matrix)):\n",
    "        if method == 'augmented':\n",
    "            row = [k + (1-k)*float(x)/np.max(matrix[i]) \n",
    "                   for x in matrix[i]]\n",
    "        elif method == 'log':\n",
    "            row = [1 + np.log(1 + float(x)) for x in matrix[i]]\n",
    "        elif method == 'logavg':\n",
    "            row = [(1 + np.log(1 + float(x))) / \n",
    "                   (1 + np.log(1 + np.mean(matrix[i]))) for x in matrix[i]]\n",
    "        else:\n",
    "            row = [x for x in matrix[i]]\n",
    "        transformed.append(row)\n",
    "    return np.array(transformed)"
   ]
  },
  {
   "cell_type": "code",
   "execution_count": 3,
   "metadata": {
    "collapsed": false,
    "deletable": true,
    "editable": true
   },
   "outputs": [],
   "source": [
    "def idf(j, matrix, method=None):\n",
    "    nt = len([x for x in matrix.T[j] if x > 0])\n",
    "    idf = np.log(float(len(matrix) + 1) / (1 + nt))\n",
    "    if method == 'max':\n",
    "        nt1 = max([len(x) for x in matrix.T ])\n",
    "        idf = np.log(float(nt1) / (1 + nt))\n",
    "    elif method == 'prob':\n",
    "        idf = np.log(1 + ((float(len(matrix))-nt) / nt))\n",
    "    return idf"
   ]
  },
  {
   "cell_type": "code",
   "execution_count": 4,
   "metadata": {
    "collapsed": false,
    "deletable": true,
    "editable": true
   },
   "outputs": [],
   "source": [
    "TF = weight(M, method=None)\n",
    "IDF = np.array([idf(x, M, method='prob') for x in range(0, len(M.T))])\n",
    "tf_idf = TF*IDF"
   ]
  },
  {
   "cell_type": "markdown",
   "metadata": {
    "deletable": true,
    "editable": true
   },
   "source": [
    "## Spatial representation of documents\n",
    "The vector space model provides a natural way for representing documents in the multi-dimensional space of tokens."
   ]
  },
  {
   "cell_type": "code",
   "execution_count": 5,
   "metadata": {
    "collapsed": false,
    "deletable": true,
    "editable": true
   },
   "outputs": [
    {
     "name": "stdout",
     "output_type": "stream",
     "text": [
      "[[ 0.4462871   0.        ]\n",
      " [ 1.11571776  2.7488722 ]\n",
      " [ 0.4462871   0.91629073]\n",
      " [ 0.89257421  0.        ]\n",
      " [ 0.          0.        ]]\n"
     ]
    },
    {
     "data": {
      "image/png": "[encoded data removed]",
      "text/plain": [
       "<matplotlib.figure.Figure at 0x1040b0690>"
      ]
     },
     "metadata": {},
     "output_type": "display_data"
    }
   ],
   "source": [
    "import matplotlib.pyplot as plt\n",
    "\n",
    "w1, w2 = 'love', 'girl'\n",
    "d1, d2 = words.index(w1), words.index(w2)\n",
    "sub_space = tf_idf[:,[d1,d2]]\n",
    "\n",
    "norms = np.array([np.linalg.norm(x) for x in sub_space])\n",
    "norm_space = np.array([v / norms[i] \n",
    "                       for i, v in enumerate(sub_space)\n",
    "                      if norms[i].sum() > 0])\n",
    "\n",
    "fig, axes = plt.subplots(nrows=1, ncols=2, figsize=(14, 6))\n",
    "for i, d in enumerate(docs):\n",
    "    if sub_space[i].sum() > 0:\n",
    "        axes[0].plot([0, sub_space[i][0]], [0, sub_space[i][1]], \n",
    "                     linewidth=2, label=d, alpha=0.5)\n",
    "        axes[1].plot([0, norm_space[i][0]], [0, norm_space[i][1]], \n",
    "                     linewidth=2, label=d, alpha=0.5)\n",
    "\n",
    "axes[0].set_ylabel(w2)\n",
    "axes[0].set_xlabel(w1)\n",
    "axes[1].set_ylabel(w2)\n",
    "axes[1].set_xlabel(w1)\n",
    "axes[0].legend()\n",
    "axes[1].legend()\n",
    "plt.show()\n",
    "\n"
   ]
  },
  {
   "cell_type": "markdown",
   "metadata": {
    "deletable": true,
    "editable": true
   },
   "source": [
    "## Evaluate similarity\n",
    "The spatial representation of documents can be used for interpreting document similarity as a function of distance among document vectors.\n",
    "\n",
    "Several vector distance metrics are available:\n",
    "\n",
    "<table style=\"width: 100%\">\n",
    "<thead>\n",
    "<tr>\n",
    "<th style=\"width: 10%;\">Metric</th>\n",
    "<th style=\"text-align: center; width=60%;\">Formula</th>\n",
    "<th style=\"text-align: center; width=10%;\">sim(d717, d858)</th>\n",
    "<th style=\"width: 20%;\">Interpretation</th>\n",
    "</tr>\n",
    "<thead>\n",
    "<tbody>\n",
    "<tr>\n",
    "<td>\n",
    "Cosine Distance\n",
    "</td>\n",
    "<td style=\"text-align: center;\">\n",
    "$1 - \\frac{\\sum\\limits_{i=1}^{n} a_i b_i}{\\sqrt{\\sum\\limits_{i=1}^{n}a_{1}^{2}}\\sqrt{\\sum\\limits_{i=1}^{n}b_{1}^{2}}}$\n",
    "</td>\n",
    "<td style=\"text-align: center;\">\n",
    "0.0141\n",
    "</td>\n",
    "<td>\n",
    "Cosine of the angle between the vectors\n",
    "</td>\n",
    "</tr>\n",
    "\n",
    "<tr>\n",
    "<td>\n",
    "Euclidean Distance\n",
    "</td>\n",
    "<td style=\"text-align: center;\">\n",
    "$\\sqrt{\\sum\\limits_{i=1}^{n}\\mid a_i - b_i\\mid^2}$\n",
    "</td>\n",
    "<td style=\"text-align: center;\">\n",
    "1.3705\n",
    "</td>\n",
    "<td>\n",
    "Vector points distance\n",
    "</td>\n",
    "</tr>\n",
    "\n",
    "<tr>\n",
    "<td>\n",
    "Chebyshev distance\n",
    "</td>\n",
    "<td style=\"text-align: center;\">\n",
    "$\\max\\limits_{i=1}^{n}(\\mid a_i - b_i \\mid)$\n",
    "</td>\n",
    "<td style=\"text-align: center;\">\n",
    "0.9162\n",
    "</td>\n",
    "<td>\n",
    "The greatest different along any dimension\n",
    "</td>\n",
    "</tr>\n",
    "\n",
    "<tr>\n",
    "<td>\n",
    "Manhattan distance\n",
    "</td>\n",
    "<td style=\"text-align: center;\">\n",
    "$\\sum\\limits_{i=1}^{n}\\mid a_i - b_i \\mid$\n",
    "</td>\n",
    "<td style=\"text-align: center;\">\n",
    "2.2788\n",
    "</td>\n",
    "<td>\n",
    "Distance in a grid\n",
    "</td>\n",
    "</tr>\n",
    "\n",
    "<tr>\n",
    "<td>\n",
    "Canberra distance\n",
    "</td>\n",
    "<td style=\"text-align: center;\">\n",
    "$\\sum\\limits_{i=1}^{n}\\frac{\\mid a_i - b_i \\mid}{\\mid a_i \\mid \\mid b_i \\mid}$\n",
    "</td>\n",
    "<td style=\"text-align: center;\">\n",
    "1.4102\n",
    "</td>\n",
    "<td>\n",
    "Normalized version of Manhattan distance\n",
    "</td>\n",
    "</tr>\n",
    "\n",
    "<tr>\n",
    "<td>\n",
    "Bray-Curtis distance\n",
    "</td>\n",
    "<td style=\"text-align: center;\">\n",
    "$\n",
    "\\frac{\\sum\\limits_{i=1}^{n}\\mid a_i - b_i \\mid}\n",
    "{\\sum\\limits_{i=1}^{n}\\mid a_i + b_i \\mid}\n",
    "$\n",
    "</td>\n",
    "<td style=\"text-align: center;\">\n",
    "0.1608\n",
    "</td>\n",
    "<td>\n",
    "Variant of Manhattan distance\n",
    "</td>\n",
    "</tr>\n",
    "\n",
    "<tr>\n",
    "<td>\n",
    "Correlation distance\n",
    "</td>\n",
    "<td style=\"text-align: center;\">\n",
    "$\n",
    "1 - \n",
    "\\frac{\\sum\\limits_{i=1}^{n} (a_i - avg\\ a)(b_i - avg\\ b) }\n",
    "{\\sqrt{\\left| \\sum\\limits_{i=1}^{n} (a_i - avg\\ a)\\right|^2}\n",
    "\\sqrt{\\left| \\sum\\limits_{i=1}^{n} (b_i - avg\\ b)\\right|^2}}\n",
    "$\n",
    "</td>\n",
    "<td style=\"text-align: center;\">\n",
    "0.0179\n",
    "</td>\n",
    "<td>\n",
    "Equivalent to Cosine Distance of vectors shifted by their means\n",
    "</td>\n",
    "</tr>\n",
    "\n",
    "<tr>\n",
    "<td>\n",
    "Minkowski distance\n",
    "</td>\n",
    "<td style=\"text-align: center;\">\n",
    "$\n",
    "\\left(\\sum\\limits_{i=1}^{n} \\mid a_i - b_i \\mid^p\\right)^{\\frac{1}{p}}\n",
    "$\n",
    "</td>\n",
    "<td style=\"text-align: center;\">\n",
    "p=4 -> 1.0972\n",
    "</td>\n",
    "<td>\n",
    "Generalization of Manhattan (p=1) and Euclidean (p=2) distances\n",
    "</td>\n",
    "</tr>\n",
    "\n",
    "\n",
    "</tbody>\n",
    "</table>\n",
    "\n",
    "Note that:\n",
    "\n",
    "$\n",
    "\\lim\\limits_{p\\rightarrow\\infty}\n",
    "\\left(\\sum\\limits_{i=1}^{n} \\mid a_i - b_i \\mid^p\\right)^{\\frac{1}{p}}\n",
    "= \\max\\limits_{i=1}^{n} \\mid a_i - b_i \\mid\n",
    "$\n",
    "\n",
    "and \n",
    "\n",
    "$\n",
    "\\lim\\limits_{p\\rightarrow - \\infty}\n",
    "\\left(\\sum\\limits_{i=1}^{n} \\mid a_i - b_i \\mid^p\\right)^{\\frac{1}{p}}\n",
    "= \\min\\limits_{i=1}^{n} \\mid a_i - b_i \\mid\n",
    "$"
   ]
  },
  {
   "cell_type": "code",
   "execution_count": 76,
   "metadata": {
    "collapsed": false,
    "deletable": true,
    "editable": true
   },
   "outputs": [
    {
     "name": "stdout",
     "output_type": "stream",
     "text": [
      "cosine 0.0141424208089\n",
      "euclidean 1.37052894483\n",
      "chebyshev 0.916290731874\n",
      "manhattan 2.27886856638\n",
      "canberra 1.41025641026\n",
      "bray-curtis 0.160858302849\n",
      "correlation 0.0179969292043\n",
      "correlation 0.0179969292043\n",
      "minkowski 1.09724510466\n"
     ]
    }
   ],
   "source": [
    "from scipy.spatial import distance as ds\n",
    "\n",
    "\n",
    "d1 = tf_idf[docs.index('d717')]\n",
    "d2 = tf_idf[docs.index('d858')]\n",
    "\n",
    "print 'cosine', ds.cosine(d1, d2)\n",
    "print 'euclidean', ds.euclidean(d1, d2)\n",
    "print 'chebyshev', ds.chebyshev(d1, d2)\n",
    "print 'manhattan', ds.cityblock(d1, d2)\n",
    "print 'canberra', ds.canberra(d1, d2)\n",
    "print 'bray-curtis', ds.braycurtis(d1, d2)\n",
    "print 'correlation', ds.correlation(d1, d2)\n",
    "print 'minkowski', ds.minkowski(d1, d2, 4)"
   ]
  },
  {
   "cell_type": "code",
   "execution_count": 72,
   "metadata": {
    "collapsed": false,
    "deletable": true,
    "editable": true
   },
   "outputs": [
    {
     "data": {
      "image/png": "[encoded data removed]",
      "text/plain": [
       "<matplotlib.figure.Figure at 0x105829310>"
      ]
     },
     "metadata": {},
     "output_type": "display_data"
    }
   ],
   "source": [
    "import matplotlib.pyplot as plt\n",
    "\n",
    "y = []\n",
    "for p in range(1, 100):\n",
    "    y.append(ds.minkowski(d1, d2, p))\n",
    "\n",
    "plt.plot(y, linewidth=2.5)\n",
    "plt.show()"
   ]
  },
  {
   "cell_type": "code",
   "execution_count": null,
   "metadata": {
    "collapsed": true,
    "deletable": true,
    "editable": true
   },
   "outputs": [],
   "source": []
  }
 ],
 "metadata": {
  "kernelspec": {
   "display_name": "Python 2",
   "language": "python",
   "name": "python2"
  },
  "language_info": {
   "codemirror_mode": {
    "name": "ipython",
    "version": 2
   },
   "file_extension": ".py",
   "mimetype": "text/x-python",
   "name": "python",
   "nbconvert_exporter": "python",
   "pygments_lexer": "ipython2",
   "version": "2.7.13"
  }
 },
 "nbformat": 4,
 "nbformat_minor": 2
}
