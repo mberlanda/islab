{
 "cells": [
  {
   "cell_type": "markdown",
   "metadata": {
    "deletable": true,
    "editable": true
   },
   "source": [
    "# Some methods for associating weights to terms\n",
    "This tutorial presents some basics about term weigthing by means of a very simple toy example. "
   ]
  },
  {
   "cell_type": "markdown",
   "metadata": {
    "deletable": true,
    "editable": true
   },
   "source": [
    "## Documents\n",
    "\n",
    "|Doc|Title|Text|Length|\n",
    "|---------------|\n",
    "|d689|Love Henry|Get down, get down, Love Henry, ...|112|\n",
    "|d671|Bob Dylan's Blues|Unlike most of the songs nowaday...|99|\n",
    "|d1003|Living The Blues|Since you've been gone...|48|\n",
    "|d858|Train Of Love|Train of love's a comin', big black wheels are...|118|\n",
    "|d717|Slow Train Coming|Sometimes I feel so low-down...|2091|\n",
    "\n"
   ]
  },
  {
   "cell_type": "markdown",
   "metadata": {
    "deletable": true,
    "editable": true
   },
   "source": [
    "## Document-word matrix\n",
    "\n",
    "|    |blues|living|love|henry|train|girl|\n",
    "|-----|:---:|:----:|:--:|:----:|:----:|:---:|\n",
    "|d671 |0    |0     |2   |0     |0     |0   |\n",
    "|d689 |0    |0     |5   |3     |0     |3   |\n",
    "|d717 |0    |0     |2   |0     |7     |1   |\n",
    "|d858 |0    |0     |4   |0     |6     |0   |\n",
    "|d1003|3    |3     |0   |0     |0     |0   |\n"
   ]
  },
  {
   "cell_type": "code",
   "execution_count": 1,
   "metadata": {
    "collapsed": false,
    "deletable": true,
    "editable": true
   },
   "outputs": [],
   "source": [
    "import numpy as np\n",
    "\n",
    "docs_len = [('d671', 99), ('d689', 112), ('d717', 2091), ('d858', 118), ('d1003', 48)]\n",
    "docs = [x[0] for x in docs_len]\n",
    "words = ['blues', 'living', 'love', 'henry', 'train', 'girl']\n",
    "M = np.array([[0,0,2,0,0,0],\n",
    "     [0,0,5,3,0,3],\n",
    "     [0,0,2,0,7,1],\n",
    "     [0,0,4,0,6,0],\n",
    "     [3,3,0,0,0,0]])"
   ]
  },
  {
   "cell_type": "code",
   "execution_count": 2,
   "metadata": {
    "collapsed": false,
    "deletable": true,
    "editable": true
   },
   "outputs": [
    {
     "name": "stdout",
     "output_type": "stream",
     "text": [
      "Document words\n",
      "[[0 0 2 0 0 0]\n",
      " [0 0 5 3 0 3]\n",
      " [0 0 2 0 7 1]\n",
      " [0 0 4 0 6 0]\n",
      " [3 3 0 0 0 0]]\n",
      "Words in document\n",
      "[[0 0 0 0 3]\n",
      " [0 0 0 0 3]\n",
      " [2 5 2 4 0]\n",
      " [0 3 0 0 0]\n",
      " [0 0 7 6 0]\n",
      " [0 3 1 0 0]]\n"
     ]
    }
   ],
   "source": [
    "print \"Document words\"\n",
    "print M\n",
    "print \"Words in document\"\n",
    "print M.T"
   ]
  },
  {
   "cell_type": "markdown",
   "metadata": {
    "deletable": true,
    "editable": true
   },
   "source": [
    "## Term weight\n",
    "### Term frequency (TF)\n",
    "The easiest way of weighting the terms in documents is to just count its occurrences as $tf_{d_i, t_j}$, where $d_i$ is the $i$th document and $t_j$ is the $j$th term."
   ]
  },
  {
   "cell_type": "code",
   "execution_count": 3,
   "metadata": {
    "collapsed": false,
    "deletable": true,
    "editable": true
   },
   "outputs": [
    {
     "name": "stdout",
     "output_type": "stream",
     "text": [
      "love in d717 => 2\n"
     ]
    }
   ],
   "source": [
    "print 'love in d717 =>', M[docs.index('d717')][words.index('love')]"
   ]
  },
  {
   "cell_type": "markdown",
   "metadata": {
    "deletable": true,
    "editable": true
   },
   "source": [
    "\n",
    "However, the weight of a term in a document is depending on the document length and the relative frequency of the term with respect to the other terms in the same document.\n",
    "\n",
    "To better address relative weights of terms, $tf$ is usually normalized according to one of the following strategies.\n"
   ]
  },
  {
   "cell_type": "markdown",
   "metadata": {
    "deletable": true,
    "editable": true
   },
   "source": [
    "<table width=100%>\n",
    "<thead>\n",
    "<tr>\n",
    "<th style=\"text-align: right;\">TF Measure</th>\n",
    "<th style=\"text-align: center;\">Formula</th>\n",
    "<th style=\"text-align: center;\">Code</th>\n",
    "<th style=\"text-align: center;\">tf(d717, love)</th>\n",
    "</tr>\n",
    "</thead>\n",
    "<tbody>\n",
    "<tr>\n",
    "<td style=\"text-align: right;\">natural</td>\n",
    "<td style=\"text-align: center;\">$tf_{d_i,t_j}$</td>\n",
    "<td style=\"text-align: center;\">`M[i][j]`</td>\n",
    "<td style=\"text-align: center;\">2</td>\n",
    "</tr>\n",
    "<tr>\n",
    "<td style=\"text-align: right; width: 10%;\">augmented</td>\n",
    "<td style=\"text-align: center; width: 40%;\">\n",
    "$k + (1-k)\\frac{tf_{d_i,t_j}}{\\max{tf_{d_l,t_m}}}$</td>\n",
    "<td style=\"text-align: center; width: 40%;\">`k + (1-k)*float(M[i][j])/np.max(M[i])`</td>\n",
    "<td style=\"text-align: center; width: 10%;\">0.6428</td>\n",
    "</tr>\n",
    "<tr>\n",
    "<td style=\"text-align: right; width: 10%;\">log normalized</td>\n",
    "<td style=\"text-align: center; width: 40%;\">\n",
    "$1 + \\log{tf_{d_i,t_j}}$</td>\n",
    "<td style=\"text-align: center; width: 40%;\">`1 + np.log(1 + M[i][j])`</td>\n",
    "<td style=\"text-align: center; width: 10%;\">2.0986</td>\n",
    "</tr>\n",
    "<tr>\n",
    "<td style=\"text-align: right; width: 10%;\">log avg</td>\n",
    "<td style=\"text-align: center; width: 40%;\">\n",
    "$\\frac{1 + \\log{tf_{d_i,t_j}}}{1 + \\log{avg_{t \\in d}{tf_{d,t}}}}$</td>\n",
    "<td style=\"text-align: center; width: 40%;\">`(1 + np.log(1 + M[i][j])) / (1 + np.log(1 + np.mean(M[i])))`</td>\n",
    "<td style=\"text-align: center; width: 10%;\">1.0594</td>\n",
    "</tr>\n",
    "</tbody>\n",
    "</table>"
   ]
  },
  {
   "cell_type": "code",
   "execution_count": 4,
   "metadata": {
    "collapsed": false,
    "deletable": true,
    "editable": true
   },
   "outputs": [
    {
     "name": "stdout",
     "output_type": "stream",
     "text": [
      "Love in d717\n",
      "natural 2\n",
      "augmented 0.642857142857\n",
      "log 2.09861228867\n",
      "log avg 1.05946147831\n"
     ]
    }
   ],
   "source": [
    "print \"Love in d717\"\n",
    "i, j, k = docs.index('d717'), words.index('love'), 0.5\n",
    "print 'natural', M[i][j]\n",
    "print 'augmented', k + (1-k)*float(M[i][j])/np.max(M[i])\n",
    "print 'log', 1 + np.log(1 + M[i][j])\n",
    "print 'log avg', (1 + np.log(1 + M[i][j])) / (1 + np.log(1 + np.mean(M[i])))"
   ]
  },
  {
   "cell_type": "code",
   "execution_count": 5,
   "metadata": {
    "collapsed": false,
    "deletable": true,
    "editable": true
   },
   "outputs": [],
   "source": [
    "def weight(matrix, method=None, k=0.5):\n",
    "    transformed = []\n",
    "    for i in range(0, len(matrix)):\n",
    "        if method == 'augmented':\n",
    "            row = [k + (1-k)*float(x)/np.max(matrix[i]) \n",
    "                   for x in matrix[i]]\n",
    "        elif method == 'log':\n",
    "            row = [1 + np.log(1 + float(x)) for x in matrix[i]]\n",
    "        elif method == 'logavg':\n",
    "            row = [(1 + np.log(1 + float(x))) / \n",
    "                   (1 + np.log(1 + np.mean(matrix[i]))) for x in matrix[i]]\n",
    "        else:\n",
    "            row = [x for x in matrix[i]]\n",
    "        transformed.append(row)\n",
    "    return np.array(transformed)"
   ]
  },
  {
   "cell_type": "code",
   "execution_count": 6,
   "metadata": {
    "collapsed": true,
    "deletable": true,
    "editable": true
   },
   "outputs": [],
   "source": [
    "def w_augmented(m, k):\n",
    "    return  [k + (1-k)*float(x)/np.max(m) for x in m]\n",
    "def w_log(m):\n",
    "    return [1 + np.log(1 + float(x)) for x in m]\n",
    "def w_logavg(m):\n",
    "    return [(1 + np.log(1 + float(x))) / (1 + np.log(1 + np.mean(m))) for x in m]\n",
    "\n",
    "def w_weight(matrix, method=None, k=0.5):\n",
    "    transformed = []\n",
    "    if method == 'augmented':\n",
    "        transformed = map((lambda m: w_augmented(m, k)), matrix) \n",
    "    elif method == 'log':\n",
    "        transformed = map(w_log, matrix)\n",
    "    elif method == 'logavg':\n",
    "        transformed = map(w_logavg, matrix)\n",
    "    else:\n",
    "        transformed = map((lambda x: x), matrix)\n",
    "    return np.array(transformed)"
   ]
  },
  {
   "cell_type": "code",
   "execution_count": 7,
   "metadata": {
    "collapsed": false,
    "deletable": true,
    "editable": true
   },
   "outputs": [],
   "source": [
    "A = weight(M, method='log')"
   ]
  },
  {
   "cell_type": "markdown",
   "metadata": {
    "deletable": true,
    "editable": true
   },
   "source": [
    "### Inverse Document Frequency (IDF)\n",
    "TF alone is is usually overestimating the weight of very common terms, because those terms appears frequently in almost every document.\n",
    "\n",
    "A natural way of measuring if a term is common in a corpus is to count the **number of documents** in which it appears (this is referred as **document frequency (DF)**.\n",
    "\n",
    "$$\n",
    "df(t_j) = \\mid \\{d_i : t_j \\in d_i\\} \\mid\n",
    "$$"
   ]
  },
  {
   "cell_type": "code",
   "execution_count": 8,
   "metadata": {
    "collapsed": false,
    "deletable": true,
    "editable": true
   },
   "outputs": [
    {
     "name": "stdout",
     "output_type": "stream",
     "text": [
      "df of train 2\n"
     ]
    }
   ],
   "source": [
    "term = 'train'\n",
    "j = words.index(term)\n",
    "print 'df of', term, len([x for x in M.T[j] if x > 0])\n",
    "\n"
   ]
  },
  {
   "cell_type": "markdown",
   "metadata": {
    "deletable": true,
    "editable": true
   },
   "source": [
    "Since we are intereted is a measure that is proportional to how much a term is **infrequent** in the corpus, we can use a measure of **inverse document frequency (IDF)**, as:\n",
    "\n",
    "$$\n",
    "idf(t_j) = \\log \\frac{N}{df(t_j)}\n",
    "$$\n",
    "\n",
    "where $N$ denotes the number of documents in the corpus."
   ]
  },
  {
   "cell_type": "markdown",
   "metadata": {
    "deletable": true,
    "editable": true
   },
   "source": [
    "There are other solutions for IDF computation:\n"
   ]
  },
  {
   "cell_type": "markdown",
   "metadata": {
    "collapsed": true,
    "deletable": true,
    "editable": true
   },
   "source": [
    "<table width=100%>\n",
    "<thead>\n",
    "<tr>\n",
    "<th style=\"text-align: right;\">IDF Measure</th>\n",
    "<th style=\"text-align: center;\">Formula</th>\n",
    "<th style=\"text-align: center;\">Code</th>\n",
    "<th style=\"text-align: center;\">idf(love)</th>\n",
    "</tr>\n",
    "</thead>\n",
    "<tbody>\n",
    "<tr>\n",
    "<td style=\"text-align: right;\">standard</td>\n",
    "<td style=\"text-align: center;\">$\\log{\\frac{N}{n_{tj}}}$</td>\n",
    "<td style=\"text-align: center;\">`np.log(float(len(matrix) + 1) / (1 + len([x for x in matrix.T[j] if x > 0])))`</td>\n",
    "<td style=\"text-align: center;\">0.1823</td>\n",
    "</tr>\n",
    "<tr>\n",
    "<td style=\"text-align: right; width: 10%;\">max</td>\n",
    "<td style=\"text-align: center; width: 40%;\">\n",
    "$\\log{\\frac{\\max_{t'\\in d}n_{t'}}{1 + n_t}}$</td>\n",
    "<td style=\"text-align: center; width: 40%;\">`np.log(float(max([len(x) for x in matrix.T ])) / (1 + nt))`</td>\n",
    "<td style=\"text-align: center; width: 10%;\">0.0</td>\n",
    "</tr>\n",
    "<tr>\n",
    "<td style=\"text-align: right; width: 10%;\">probabilistic</td>\n",
    "<td style=\"text-align: center; width: 40%;\">\n",
    "$\\log{\\frac{N - n_t}{n_t}}$</td>\n",
    "<td style=\"text-align: center; width: 40%;\">`np.log(1 + ((float(len(matrix))-nt) / nt))`</td>\n",
    "<td style=\"text-align: center; width: 10%;\">0.22</td>\n",
    "</tr>\n",
    "</tbody>\n",
    "</table>"
   ]
  },
  {
   "cell_type": "code",
   "execution_count": 9,
   "metadata": {
    "collapsed": false,
    "deletable": true,
    "editable": true
   },
   "outputs": [],
   "source": [
    "def idf(j, matrix, method=None):\n",
    "    nt = len([x for x in matrix.T[j] if x > 0])\n",
    "    idf = np.log(float(len(matrix) + 1) / (1 + nt))\n",
    "    if method == 'max':\n",
    "        nt1 = max([len(x) for x in matrix.T ])\n",
    "        idf = np.log(float(nt1) / (1 + nt))\n",
    "    elif method == 'prob':\n",
    "        idf = np.log(1 + ((float(len(matrix))-nt) / nt))\n",
    "    return idf"
   ]
  },
  {
   "cell_type": "code",
   "execution_count": 10,
   "metadata": {
    "collapsed": false,
    "deletable": true,
    "editable": true
   },
   "outputs": [
    {
     "name": "stdout",
     "output_type": "stream",
     "text": [
      "standard idf of love 0.182321556794\n",
      "max idf of love 0.0\n",
      "prob idf of love 0.223143551314\n"
     ]
    }
   ],
   "source": [
    "term = 'love'\n",
    "methods = ['standard', 'max', 'prob']\n",
    "j = words.index(term)\n",
    "\n",
    "for method in methods:\n",
    "    print method, 'idf of', term, idf(j, M, method=method)\n"
   ]
  },
  {
   "cell_type": "markdown",
   "metadata": {
    "deletable": true,
    "editable": true
   },
   "source": [
    "## TF-IDF\n",
    "Due to their respective definition, TF and IDF high values promote terms that are frequent in a document and infrequent in the corpus, respectively. According to this, it is pretty natural to calculate the product $tf(d, t) \\cdot idf(t)$ for measuring the weight of a term $t$ in a document $d$."
   ]
  },
  {
   "cell_type": "code",
   "execution_count": 11,
   "metadata": {
    "collapsed": false,
    "deletable": true,
    "editable": true
   },
   "outputs": [],
   "source": [
    "TF = weight(M, method='augmented')\n",
    "IDF = np.array([idf(x, M, method='prob') for x in range(0, len(M.T))])\n",
    "tf_idf = TF*IDF\n"
   ]
  },
  {
   "cell_type": "markdown",
   "metadata": {
    "collapsed": false,
    "deletable": true,
    "editable": true
   },
   "source": [
    "## Other weigthing strategies\n",
    "### Specificity\n",
    "Term specificity is based on the idea of evaluating the usage of a term in a corpus $C$ with respect to a different corpus $D$.\n",
    "\n",
    "Given two corpora $C$ and $D$, we denote $f(t)$ the relative frequency of the term $t$ in $C$ and $f^∗(t)$ the relative frequency of $t$ in $D$.\n",
    "\n",
    "A special case is when $C \\subset D$: in this case, we aim at isolating the terminology that is specific of a subset of documents over the whole corpus.\n",
    "\n",
    "Term specificity $\\chi(t)$ is calculated as: \n",
    "\n",
    "$$\n",
    "\\chi(t) = \\frac{f(t) - f^*(t)}{\\sqrt{f^*(t)}}\n",
    "$$\n",
    "\n",
    "where:\n",
    "* $\\chi(t) > 0$: $t$ is over-used in $C$ wrt $D$\n",
    "* $\\chi(t) \\approx 0$: $t$ is equally-used in $C$ wrt $D$\n",
    "* $\\chi(t) < 0$: $t$ is over-used in $D$ wrt $C$"
   ]
  },
  {
   "cell_type": "code",
   "execution_count": 12,
   "metadata": {
    "collapsed": true,
    "deletable": true,
    "editable": true
   },
   "outputs": [],
   "source": [
    "def relative_frequencies(matrix, length=None):\n",
    "    freq = np.zeros(len(matrix.T))\n",
    "    if length is None:\n",
    "        length = np.sum(matrix)\n",
    "    try:\n",
    "        for i, row in enumerate(matrix.T):\n",
    "            freq[i] = float(np.sum(row)) / length\n",
    "    except ZeroDivisionError:\n",
    "        pass\n",
    "    return freq"
   ]
  },
  {
   "cell_type": "markdown",
   "metadata": {
    "deletable": true,
    "editable": true
   },
   "source": [
    "|Doc|Title|Text|Length|\n",
    "|---------------|\n",
    "|d1062|Love You To|Each day just goes so fast ...|480|\n",
    "|d1071|Ob-La-Di, Ob-La-Da|Girl, I like your face...|1071|\n",
    "|d1075|Across The Universe|Words are flowing out...|1160|\n",
    "|d1083|All You Need Is Love|Love, love, love...|2128|\n"
   ]
  },
  {
   "cell_type": "markdown",
   "metadata": {
    "deletable": true,
    "editable": true
   },
   "source": [
    "|    |blues|living|love|henry|train|girl|\n",
    "|-----|:---:|:----:|:--:|:----:|:----:|:---:|\n",
    "|d1062 |0    |0     |6   |0     |0     |0   |\n",
    "|d1071 |0    |0     |0   |0     |0     |1   |\n",
    "|d1075 |0    |0     |1   |0     |0     |0   |\n",
    "|d1083 |0    |0     |79   |0     |0     |0   |\n"
   ]
  },
  {
   "cell_type": "code",
   "execution_count": 13,
   "metadata": {
    "collapsed": true,
    "deletable": true,
    "editable": true
   },
   "outputs": [],
   "source": [
    "beatles_len = [('d1062', 480), ('d1071', 1071), ('d1075', 1160), ('d1083', 1083), ('d1003', 48)]\n",
    "beatles = [x[0] for x in docs_len]\n",
    "\n",
    "B = np.array([\n",
    "    [0,0,6,0,0,0],\n",
    "    [0,0,0,0,0,1],\n",
    "    [0,0,1,0,0,0],\n",
    "    [0,0,79,0,0,0]])"
   ]
  },
  {
   "cell_type": "code",
   "execution_count": 14,
   "metadata": {
    "collapsed": false,
    "deletable": true,
    "editable": true
   },
   "outputs": [],
   "source": [
    "d_s, b_s = sum([x[1] for x in docs_len]), sum([x[1] for x in beatles_len])\n",
    "music = np.vstack((M, B))\n",
    "dylan_f = relative_frequencies(M, d_s)\n",
    "beatles_f = relative_frequencies(B, b_s)\n",
    "f_star = relative_frequencies(music, d_s + b_s)\n"
   ]
  },
  {
   "cell_type": "code",
   "execution_count": 15,
   "metadata": {
    "collapsed": false,
    "deletable": true,
    "editable": true
   },
   "outputs": [
    {
     "name": "stdout",
     "output_type": "stream",
     "text": [
      "blues dylan 0.0339436196919 beatles -0.0218044907339\n",
      "living dylan 0.0339436196919 beatles -0.0218044907339\n",
      "love dylan -0.0832044279869 beatles 0.0534483415595\n",
      "henry dylan 0.0339436196919 beatles -0.0218044907339\n",
      "train dylan 0.0706592790115 beatles -0.0453896669964\n",
      "girl dylan 0.0294269243748 beatles -0.0189030841637\n"
     ]
    }
   ],
   "source": [
    "coordinates = []\n",
    "for i, w in enumerate(words):\n",
    "    d_f = (dylan_f[i] - f_star[i]) / np.sqrt(f_star[i])\n",
    "    b_f = (beatles_f[i] - f_star[i]) / np.sqrt(f_star[i])\n",
    "    print w, 'dylan', d_f, 'beatles', b_f\n",
    "    coordinates.append((w, d_f, b_f))"
   ]
  },
  {
   "cell_type": "code",
   "execution_count": 16,
   "metadata": {
    "collapsed": false,
    "deletable": true,
    "editable": true
   },
   "outputs": [
    {
     "data": {
      "image/png": "[encoded data removed]",
      "text/plain": [
       "<matplotlib.figure.Figure at 0x7f896d9dc290>"
      ]
     },
     "metadata": {},
     "output_type": "display_data"
    }
   ],
   "source": [
    "import matplotlib.pyplot as plt\n",
    "\n",
    "for i, c in enumerate(coordinates):\n",
    "    plt.scatter(c[1], c[2], s=sum(music.T[i]), alpha=0.5, label=c[0])\n",
    "plt.xlabel('dylan')\n",
    "plt.ylabel('beatles')\n",
    "plt.legend()\n",
    "plt.show()"
   ]
  },
  {
   "cell_type": "code",
   "execution_count": null,
   "metadata": {
    "collapsed": true,
    "deletable": true,
    "editable": true
   },
   "outputs": [],
   "source": []
  }
 ],
 "metadata": {
  "kernelspec": {
   "display_name": "Python 2",
   "language": "python",
   "name": "python2"
  },
  "language_info": {
   "codemirror_mode": {
    "name": "ipython",
    "version": 2
   },
   "file_extension": ".py",
   "mimetype": "text/x-python",
   "name": "python",
   "nbconvert_exporter": "python",
   "pygments_lexer": "ipython2",
   "version": "2.7.12"
  }
 },
 "nbformat": 4,
 "nbformat_minor": 2
}
